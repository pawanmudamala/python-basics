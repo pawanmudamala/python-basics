{
 "cells": [
  {
   "cell_type": "code",
   "execution_count": null,
   "id": "3678f7f3",
   "metadata": {},
   "outputs": [],
   "source": [
    "print(\"This is Nik\")"
   ]
  },
  {
   "cell_type": "code",
   "execution_count": null,
   "id": "e0120ba9",
   "metadata": {},
   "outputs": [],
   "source": [
    "#type casting\n",
    "#Implicit Type Conversion:\n",
    "a=10\n",
    "b=20.1\n",
    "print(a+b)"
   ]
  },
  {
   "cell_type": "code",
   "execution_count": null,
   "id": "a48021a1",
   "metadata": {},
   "outputs": [],
   "source": []
  },
  {
   "cell_type": "code",
   "execution_count": null,
   "id": "19da26bb",
   "metadata": {},
   "outputs": [],
   "source": []
  },
  {
   "cell_type": "code",
   "execution_count": null,
   "id": "13d737d5",
   "metadata": {},
   "outputs": [],
   "source": [
    "#2. Explicit Type Conversion / Type Cast:\n",
    "\n",
    "a=\"10\"\n",
    "a1=int(a)\n",
    "b=20\n",
    "print(a1+b)"
   ]
  },
  {
   "cell_type": "code",
   "execution_count": null,
   "id": "0a6ae75c",
   "metadata": {},
   "outputs": [],
   "source": [
    "a=10\n",
    "\n",
    "b=20\n",
    "print(a+b)"
   ]
  },
  {
   "cell_type": "code",
   "execution_count": null,
   "id": "98040bed",
   "metadata": {},
   "outputs": [],
   "source": [
    "a=\"I Love \"\n",
    "\n",
    "b=\"India\"\n",
    "print(a+b)"
   ]
  },
  {
   "cell_type": "code",
   "execution_count": null,
   "id": "8762c084",
   "metadata": {},
   "outputs": [],
   "source": [
    "a=\"10\"\n",
    "\n",
    "b=\"20\"\n",
    "print(a+b)"
   ]
  },
  {
   "cell_type": "code",
   "execution_count": null,
   "id": "52e8ff06",
   "metadata": {},
   "outputs": [],
   "source": [
    "a=10\n",
    "b=20\n",
    "print(a*b)"
   ]
  },
  {
   "cell_type": "code",
   "execution_count": null,
   "id": "972eae18",
   "metadata": {},
   "outputs": [],
   "source": [
    "a=\"India \"\n",
    "b=3\n",
    "print(a*b)"
   ]
  },
  {
   "cell_type": "code",
   "execution_count": null,
   "id": "0eb9f184",
   "metadata": {},
   "outputs": [],
   "source": [
    "print(\"India\"*3)"
   ]
  },
  {
   "cell_type": "code",
   "execution_count": null,
   "id": "8c7b5bed",
   "metadata": {},
   "outputs": [],
   "source": [
    "a=int(input(\"Enter a Number\"))\n",
    "print(\"My number is \",a+a)"
   ]
  },
  {
   "cell_type": "code",
   "execution_count": null,
   "id": "05c5de2d",
   "metadata": {},
   "outputs": [],
   "source": [
    "a=float(input(\"Enter a Number\"))\n",
    "print(\"My number is \",a+a)"
   ]
  },
  {
   "cell_type": "code",
   "execution_count": null,
   "id": "381135ac",
   "metadata": {},
   "outputs": [],
   "source": [
    "a=str(input(\"Enter a Number\"))\n",
    "print(\"My number is \",a+a)"
   ]
  },
  {
   "cell_type": "code",
   "execution_count": null,
   "id": "81a19bc5",
   "metadata": {},
   "outputs": [],
   "source": [
    "a=input(\"Enter a Number\")\n",
    "print(\"My number is \",a+a)"
   ]
  },
  {
   "cell_type": "code",
   "execution_count": null,
   "id": "6d76242d",
   "metadata": {},
   "outputs": [],
   "source": [
    "a=input()\n",
    "print(\"My number is \",a+a)"
   ]
  },
  {
   "cell_type": "code",
   "execution_count": null,
   "id": "a2cf04b1",
   "metadata": {},
   "outputs": [],
   "source": [
    "a=10\n",
    "print(a)"
   ]
  },
  {
   "cell_type": "code",
   "execution_count": null,
   "id": "46a15a63",
   "metadata": {},
   "outputs": [],
   "source": [
    "a=10\n",
    "print(a) #A"
   ]
  },
  {
   "cell_type": "code",
   "execution_count": null,
   "id": "49d2395c",
   "metadata": {},
   "outputs": [],
   "source": [
    "a003=10\n",
    "print(a003)"
   ]
  },
  {
   "cell_type": "code",
   "execution_count": null,
   "id": "247b4f67",
   "metadata": {},
   "outputs": [],
   "source": [
    "_First_name=\"ABC\"\n",
    "print(_First_name)"
   ]
  },
  {
   "cell_type": "code",
   "execution_count": null,
   "id": "61e4a1e9",
   "metadata": {},
   "outputs": [],
   "source": [
    "First$name=\"ABC\"\n",
    "print(First$name)"
   ]
  },
  {
   "cell_type": "code",
   "execution_count": null,
   "id": "cc37d61b",
   "metadata": {},
   "outputs": [],
   "source": [
    "First name=\"ABC\"\n",
    "print(First name)"
   ]
  },
  {
   "cell_type": "code",
   "execution_count": null,
   "id": "8b785db9",
   "metadata": {},
   "outputs": [],
   "source": [
    "a=5\n",
    "b=2\n",
    "print(a%b)"
   ]
  },
  {
   "cell_type": "code",
   "execution_count": null,
   "id": "050cffca",
   "metadata": {},
   "outputs": [],
   "source": [
    "a=5\n",
    "b=2\n",
    "print(a//b)"
   ]
  },
  {
   "cell_type": "code",
   "execution_count": null,
   "id": "8cb912c9",
   "metadata": {},
   "outputs": [],
   "source": [
    "a=5\n",
    "b=2\n",
    "print(a/b)"
   ]
  },
  {
   "cell_type": "code",
   "execution_count": null,
   "id": "4bfcce73",
   "metadata": {},
   "outputs": [],
   "source": [
    "a=5\n",
    "b=2\n",
    "print(a*b)"
   ]
  },
  {
   "cell_type": "code",
   "execution_count": null,
   "id": "34b79a5b",
   "metadata": {},
   "outputs": [],
   "source": [
    "a=10\n",
    "b=3\n",
    "print(a**b)#10*10*10"
   ]
  },
  {
   "cell_type": "code",
   "execution_count": null,
   "id": "08aba6a8",
   "metadata": {},
   "outputs": [],
   "source": [
    "x=9\n",
    "x=x+9\n",
    "print(x)"
   ]
  },
  {
   "cell_type": "code",
   "execution_count": null,
   "id": "b5dad524",
   "metadata": {},
   "outputs": [],
   "source": [
    "x=9\n",
    "x += 9\n",
    "print(x)"
   ]
  },
  {
   "cell_type": "code",
   "execution_count": null,
   "id": "f8d16c9b",
   "metadata": {},
   "outputs": [],
   "source": [
    "a=7\n",
    "b=6\n",
    "print(a&b)"
   ]
  },
  {
   "cell_type": "code",
   "execution_count": null,
   "id": "b6d76c4c",
   "metadata": {},
   "outputs": [],
   "source": [
    "print(15>>1)"
   ]
  },
  {
   "cell_type": "code",
   "execution_count": null,
   "id": "b04f6f11",
   "metadata": {},
   "outputs": [],
   "source": [
    "print(11>>1)"
   ]
  },
  {
   "cell_type": "code",
   "execution_count": null,
   "id": "0ddaa025",
   "metadata": {},
   "outputs": [],
   "source": [
    "print(14<<1)"
   ]
  },
  {
   "cell_type": "code",
   "execution_count": null,
   "id": "40b9e7e1",
   "metadata": {},
   "outputs": [],
   "source": [
    "print(10==10)"
   ]
  },
  {
   "cell_type": "code",
   "execution_count": null,
   "id": "1c1c7031",
   "metadata": {},
   "outputs": [],
   "source": [
    "print(10!=10)"
   ]
  },
  {
   "cell_type": "code",
   "execution_count": null,
   "id": "9007d249",
   "metadata": {},
   "outputs": [],
   "source": [
    "print(10>10)"
   ]
  },
  {
   "cell_type": "code",
   "execution_count": null,
   "id": "350a5016",
   "metadata": {},
   "outputs": [],
   "source": [
    "print(10>=10)"
   ]
  },
  {
   "cell_type": "code",
   "execution_count": null,
   "id": "b6deade2",
   "metadata": {},
   "outputs": [],
   "source": [
    "print(10<10)"
   ]
  },
  {
   "cell_type": "code",
   "execution_count": null,
   "id": "cf59c8a1",
   "metadata": {},
   "outputs": [],
   "source": [
    "print(10<=10)"
   ]
  },
  {
   "cell_type": "code",
   "execution_count": null,
   "id": "65e6467c",
   "metadata": {},
   "outputs": [],
   "source": [
    "x=5\n",
    "print(x<10 and x>8)"
   ]
  },
  {
   "cell_type": "code",
   "execution_count": null,
   "id": "9c9c7a71",
   "metadata": {},
   "outputs": [],
   "source": [
    "x=5\n",
    "print(x>10 or x>8)"
   ]
  },
  {
   "cell_type": "code",
   "execution_count": null,
   "id": "9b27ac36",
   "metadata": {},
   "outputs": [],
   "source": [
    "x=5\n",
    "print(not(x>10 or x>8))"
   ]
  },
  {
   "cell_type": "code",
   "execution_count": null,
   "id": "65c6400f",
   "metadata": {},
   "outputs": [],
   "source": [
    "a=10\n",
    "print(not((a%3 ==0)or(a%5==0)))"
   ]
  },
  {
   "cell_type": "code",
   "execution_count": null,
   "id": "150104da",
   "metadata": {},
   "outputs": [],
   "source": [
    "a=[\"Apple\",\"Banana\"]\n",
    "print(\"kiwi\"in a)"
   ]
  },
  {
   "cell_type": "code",
   "execution_count": null,
   "id": "ee0c0c2d",
   "metadata": {},
   "outputs": [],
   "source": [
    "a=[\"Apple\",\"Banana\"]\n",
    "print(\"kiwi\" not in a)"
   ]
  },
  {
   "cell_type": "code",
   "execution_count": null,
   "id": "60483aca",
   "metadata": {},
   "outputs": [],
   "source": [
    "a=3\n",
    "b=5\n",
    "a^=b\n",
    "print(a)"
   ]
  },
  {
   "cell_type": "code",
   "execution_count": null,
   "id": "773ce729",
   "metadata": {},
   "outputs": [],
   "source": [
    "s=\"Hello world!\"\n",
    "print(s[4])"
   ]
  },
  {
   "cell_type": "code",
   "execution_count": null,
   "id": "477892f6",
   "metadata": {},
   "outputs": [],
   "source": [
    "print(s[11])"
   ]
  },
  {
   "cell_type": "code",
   "execution_count": null,
   "id": "36b3b55b",
   "metadata": {},
   "outputs": [],
   "source": [
    "print(\"s[0]:\",s[0])"
   ]
  },
  {
   "cell_type": "code",
   "execution_count": null,
   "id": "59df2495",
   "metadata": {},
   "outputs": [],
   "source": [
    "print(s[-1])"
   ]
  },
  {
   "cell_type": "code",
   "execution_count": null,
   "id": "1fe71764",
   "metadata": {},
   "outputs": [],
   "source": [
    "print(s[-6])"
   ]
  },
  {
   "cell_type": "code",
   "execution_count": null,
   "id": "4f65b5c2",
   "metadata": {},
   "outputs": [],
   "source": [
    "print(s[-8])"
   ]
  },
  {
   "cell_type": "code",
   "execution_count": null,
   "id": "3a178ef9",
   "metadata": {},
   "outputs": [],
   "source": [
    "print(s[6:11])"
   ]
  },
  {
   "cell_type": "code",
   "execution_count": null,
   "id": "30b5a7c3",
   "metadata": {},
   "outputs": [],
   "source": [
    "print(s[0:5])"
   ]
  },
  {
   "cell_type": "code",
   "execution_count": null,
   "id": "d89356f6",
   "metadata": {},
   "outputs": [],
   "source": [
    "#print(\"Hello Students\"*2)\n",
    "var1 =\"Python Programming\"\n",
    "print(var1[-5:-1]+'  Abdracadabra')\n"
   ]
  },
  {
   "cell_type": "code",
   "execution_count": null,
   "id": "af35e3ca",
   "metadata": {},
   "outputs": [],
   "source": [
    "print(var1[-5:])"
   ]
  },
  {
   "cell_type": "code",
   "execution_count": null,
   "id": "b91498bc",
   "metadata": {},
   "outputs": [],
   "source": [
    "print(var1[:6])"
   ]
  },
  {
   "cell_type": "code",
   "execution_count": null,
   "id": "b8884c78",
   "metadata": {},
   "outputs": [],
   "source": [
    "str1 = 'Hello World!' \n",
    "str1[::-1] "
   ]
  },
  {
   "cell_type": "code",
   "execution_count": null,
   "id": "20efa493",
   "metadata": {},
   "outputs": [],
   "source": [
    "str1[-1:] "
   ]
  },
  {
   "cell_type": "code",
   "execution_count": null,
   "id": "dbb6e34a",
   "metadata": {},
   "outputs": [],
   "source": [
    "print(len(str1))"
   ]
  },
  {
   "cell_type": "code",
   "execution_count": null,
   "id": "3dd4c74a",
   "metadata": {},
   "outputs": [],
   "source": [
    "print(\"This is NIk.\\nI am from mumbai\")"
   ]
  },
  {
   "cell_type": "code",
   "execution_count": null,
   "id": "7a7b6e20",
   "metadata": {},
   "outputs": [],
   "source": [
    "txt = \"one one was a race horse, two two was one too.\" \n",
    "txt.replace('one','three')\n"
   ]
  },
  {
   "cell_type": "code",
   "execution_count": null,
   "id": "c00ec9de",
   "metadata": {},
   "outputs": [],
   "source": [
    "txt = \"Hello, welcome to my world.\"\n",
    "x = txt.find(\"e\")\n",
    "x"
   ]
  },
  {
   "cell_type": "code",
   "execution_count": null,
   "id": "713ba859",
   "metadata": {},
   "outputs": [],
   "source": [
    "txt = \"Company 12\"\n",
    "x = txt.isalnum()\n",
    "x"
   ]
  },
  {
   "cell_type": "code",
   "execution_count": null,
   "id": "07314a94",
   "metadata": {},
   "outputs": [],
   "source": [
    "txt = \"hello, my name is Peter, I am 26 years old\"\n",
    "x = txt.split(\", \",maxsplit=1)\n",
    "x"
   ]
  },
  {
   "cell_type": "code",
   "execution_count": null,
   "id": "7a87e0df",
   "metadata": {},
   "outputs": [],
   "source": [
    "myTuple = (\"John\", \"Peter\", \"Vicky\")\n",
    "\"#\".join(myTuple)\n"
   ]
  },
  {
   "cell_type": "code",
   "execution_count": null,
   "id": "7d3029bc",
   "metadata": {},
   "outputs": [],
   "source": [
    "s = 'aaa,bbb,ccc,dd      ' \n",
    "s.rstrip() \n"
   ]
  },
  {
   "cell_type": "code",
   "execution_count": null,
   "id": "03a80e94",
   "metadata": {},
   "outputs": [],
   "source": [
    "s = '      aaa,bbb,ccc,dd      ' \n",
    "s.lstrip() "
   ]
  },
  {
   "cell_type": "code",
   "execution_count": null,
   "id": "e828ae3d",
   "metadata": {},
   "outputs": [],
   "source": [
    "s = '      aaa,bbb,ccc,dd      ' \n",
    "s.strip() "
   ]
  },
  {
   "cell_type": "code",
   "execution_count": null,
   "id": "79200f5c",
   "metadata": {},
   "outputs": [],
   "source": [
    "s=\"I love my India\"\n",
    "s.startswith(\"I\")"
   ]
  },
  {
   "cell_type": "code",
   "execution_count": null,
   "id": "ac244819",
   "metadata": {},
   "outputs": [],
   "source": [
    "s=\"I love my India\"\n",
    "s.endswith(\"I\")"
   ]
  },
  {
   "cell_type": "code",
   "execution_count": null,
   "id": "119b92dc",
   "metadata": {},
   "outputs": [],
   "source": [
    "txt = \"banana\"\n",
    "x = txt.center(80)\n",
    "print(x) \n"
   ]
  },
  {
   "cell_type": "code",
   "execution_count": null,
   "id": "5e6cbc2e",
   "metadata": {},
   "outputs": [],
   "source": [
    "txt = \"banana\"\n",
    "x = txt.center(80,\"o\")\n",
    "print(x) "
   ]
  },
  {
   "cell_type": "code",
   "execution_count": null,
   "id": "51d7fc2f",
   "metadata": {},
   "outputs": [],
   "source": [
    "txt = \"I love apples, apple are my favorite fruit\"\n",
    "\n",
    "x = txt.count(\"apple\",10,24)\n",
    "\n",
    "print(x)\n"
   ]
  },
  {
   "cell_type": "code",
   "execution_count": null,
   "id": "55abc58f",
   "metadata": {},
   "outputs": [],
   "source": [
    "txt = \"I love oooapples, apple are applemy favorite fruit\"\n",
    "\n",
    "x = txt.count(\"apple\")\n",
    "\n",
    "print(x)\n"
   ]
  },
  {
   "cell_type": "code",
   "execution_count": null,
   "id": "8ef15edc",
   "metadata": {},
   "outputs": [],
   "source": [
    "age=int(input(\"Enter age\"))\n",
    "\n",
    "\n",
    "if (age>=18):\n",
    "    print(\"You can vote\")"
   ]
  },
  {
   "cell_type": "code",
   "execution_count": null,
   "id": "b8b12de7",
   "metadata": {},
   "outputs": [],
   "source": [
    "age=int(input(\"Enter age\"))\n",
    "\n",
    "\n",
    "if (age>=18):\n",
    "    print(\"You can vote\")\n",
    "else:\n",
    "    print(\"You can't vote\")"
   ]
  },
  {
   "cell_type": "code",
   "execution_count": null,
   "id": "4c56a920",
   "metadata": {},
   "outputs": [],
   "source": [
    "number=int(input(\"Enter number\"))\n",
    "if (number == 0):\n",
    "    print(\"Number is zero\")\n",
    "elif(number%2 == 0):\n",
    "    print(\"Even Number\") \n",
    "elif (number > 0):\n",
    "    print(\"positive number\")\n",
    "elif (number <0):\n",
    "    print(\"-ve\")\n",
    "else:\n",
    "    print(\"Odd numbers\")\n"
   ]
  },
  {
   "cell_type": "code",
   "execution_count": 2,
   "id": "e55b3861",
   "metadata": {},
   "outputs": [
    {
     "name": "stdout",
     "output_type": "stream",
     "text": [
      "Enter number-7\n",
      "-ve\n",
      "odd\n"
     ]
    }
   ],
   "source": [
    "number=int(input(\"Enter number\"))\n",
    "if (number%2 == 0):\n",
    "    print(\"Even Number\") \n",
    "if (number == 0):\n",
    "    print(\"Number is zero\")\n",
    "if (number > 0):\n",
    "    print(\"positive number\")\n",
    "if (number <0):\n",
    "    print(\"-ve\")\n",
    "if (number%2 != 0):\n",
    "    print(\"odd\")\n"
   ]
  },
  {
   "cell_type": "code",
   "execution_count": null,
   "id": "f20d123c",
   "metadata": {},
   "outputs": [],
   "source": [
    "number=int(input(\"Enter number\"))\n",
    "if (number > 0):\n",
    "    print(\"positive number\")\n",
    "    if (number%2 == 0):\n",
    "        print(\"Even Number\") \n",
    "    else:\n",
    "        print(\"odd\")\n",
    "else:\n",
    "    print(\"-ve\")\n"
   ]
  },
  {
   "cell_type": "code",
   "execution_count": null,
   "id": "57795c41",
   "metadata": {},
   "outputs": [],
   "source": [
    "#For"
   ]
  },
  {
   "cell_type": "code",
   "execution_count": 1,
   "id": "8412973a",
   "metadata": {},
   "outputs": [
    {
     "name": "stdout",
     "output_type": "stream",
     "text": [
      "Nikanksha Jain\n",
      "Nikanksha Jain\n",
      "Nikanksha Jain\n",
      "Nikanksha Jain\n",
      "Nikanksha Jain\n",
      "Nikanksha Jain\n",
      "Nikanksha Jain\n",
      "Nikanksha Jain\n",
      "Nikanksha Jain\n",
      "Nikanksha Jain\n"
     ]
    }
   ],
   "source": [
    "for i in range(10):\n",
    "    print(\"Nikanksha Jain\")"
   ]
  },
  {
   "cell_type": "code",
   "execution_count": 2,
   "id": "90022720",
   "metadata": {},
   "outputs": [
    {
     "name": "stdout",
     "output_type": "stream",
     "text": [
      "0 Nikanksha Jain\n",
      "1 Nikanksha Jain\n",
      "2 Nikanksha Jain\n",
      "3 Nikanksha Jain\n",
      "4 Nikanksha Jain\n",
      "5 Nikanksha Jain\n",
      "6 Nikanksha Jain\n",
      "7 Nikanksha Jain\n",
      "8 Nikanksha Jain\n",
      "9 Nikanksha Jain\n"
     ]
    }
   ],
   "source": [
    "for i in range(10):\n",
    "    print(i,\"Nikanksha Jain\")"
   ]
  },
  {
   "cell_type": "code",
   "execution_count": 3,
   "id": "c26b125d",
   "metadata": {},
   "outputs": [
    {
     "name": "stdout",
     "output_type": "stream",
     "text": [
      "2 Nikanksha Jain\n",
      "3 Nikanksha Jain\n",
      "4 Nikanksha Jain\n",
      "5 Nikanksha Jain\n",
      "6 Nikanksha Jain\n",
      "7 Nikanksha Jain\n",
      "8 Nikanksha Jain\n",
      "9 Nikanksha Jain\n"
     ]
    }
   ],
   "source": [
    "for i in range(2,10):\n",
    "    print(i,\"Nikanksha Jain\")"
   ]
  },
  {
   "cell_type": "code",
   "execution_count": 7,
   "id": "32d61901",
   "metadata": {},
   "outputs": [
    {
     "name": "stdout",
     "output_type": "stream",
     "text": [
      "0 Nikanksha Jain\n",
      "1 Nikanksha Jain\n",
      "2 Nikanksha Jain\n",
      "3 Nikanksha Jain\n",
      "4 Nikanksha Jain\n",
      "5 Nikanksha Jain\n",
      "6 Nikanksha Jain\n",
      "7 Nikanksha Jain\n",
      "8 Nikanksha Jain\n",
      "9 Nikanksha Jain\n",
      "10 Nikanksha Jain\n",
      "11 Nikanksha Jain\n",
      "12 Nikanksha Jain\n",
      "13 Nikanksha Jain\n",
      "14 Nikanksha Jain\n",
      "15 Nikanksha Jain\n",
      "16 Nikanksha Jain\n",
      "17 Nikanksha Jain\n",
      "18 Nikanksha Jain\n",
      "19 Nikanksha Jain\n"
     ]
    }
   ],
   "source": [
    "p=20\n",
    "for i in range(p):#start,stop,step\n",
    "    print(i,\"Nikanksha Jain\")"
   ]
  },
  {
   "cell_type": "code",
   "execution_count": 8,
   "id": "a7eb82eb",
   "metadata": {},
   "outputs": [
    {
     "name": "stdout",
     "output_type": "stream",
     "text": [
      "2 Nikanksha Jain\n",
      "4 Nikanksha Jain\n",
      "6 Nikanksha Jain\n",
      "8 Nikanksha Jain\n",
      "10 Nikanksha Jain\n",
      "12 Nikanksha Jain\n",
      "14 Nikanksha Jain\n",
      "16 Nikanksha Jain\n",
      "18 Nikanksha Jain\n"
     ]
    }
   ],
   "source": [
    "for i in range(2,20,2):#start,stop,step\n",
    "    print(i,\"Nikanksha Jain\")"
   ]
  },
  {
   "cell_type": "code",
   "execution_count": 9,
   "id": "b8dc4a64",
   "metadata": {},
   "outputs": [
    {
     "name": "stdout",
     "output_type": "stream",
     "text": [
      "I\n",
      "n\n",
      "d\n",
      "i\n",
      "a\n"
     ]
    }
   ],
   "source": [
    "a=\"India\"\n",
    "for k in a:\n",
    "    print(k)"
   ]
  },
  {
   "cell_type": "code",
   "execution_count": 13,
   "id": "87515fbf",
   "metadata": {},
   "outputs": [
    {
     "name": "stdout",
     "output_type": "stream",
     "text": [
      "0\n",
      "1\n",
      "2\n",
      "3\n",
      "4\n"
     ]
    }
   ],
   "source": [
    "a=\"India\"\n",
    "for k in range(len(a)):#5\n",
    "    print(k)"
   ]
  },
  {
   "cell_type": "code",
   "execution_count": 14,
   "id": "83a2f9a6",
   "metadata": {},
   "outputs": [
    {
     "name": "stdout",
     "output_type": "stream",
     "text": [
      "India\n",
      "India\n",
      "India\n",
      "India\n",
      "India\n"
     ]
    }
   ],
   "source": [
    "a=\"India\"\n",
    "for k in range(len(a)):#5\n",
    "    print(a)"
   ]
  },
  {
   "cell_type": "code",
   "execution_count": 15,
   "id": "4e69dca3",
   "metadata": {},
   "outputs": [
    {
     "name": "stdout",
     "output_type": "stream",
     "text": [
      "I\n",
      "n\n",
      "d\n",
      "i\n",
      "a\n"
     ]
    }
   ],
   "source": [
    "a=\"India\"\n",
    "for k in range(len(a)):#5\n",
    "    print(a[k])"
   ]
  },
  {
   "cell_type": "code",
   "execution_count": 16,
   "id": "51e26542",
   "metadata": {},
   "outputs": [
    {
     "name": "stdout",
     "output_type": "stream",
     "text": [
      "Apple\n",
      "Banana\n",
      "Cherry\n"
     ]
    }
   ],
   "source": [
    "fruits=[\"Apple\",\"Banana\",\"Cherry\"]\n",
    "for i in fruits:\n",
    "    print(i)"
   ]
  },
  {
   "cell_type": "code",
   "execution_count": 19,
   "id": "a393eab0",
   "metadata": {},
   "outputs": [
    {
     "name": "stdout",
     "output_type": "stream",
     "text": [
      "Apple\n",
      "Banana\n",
      "Cherry\n"
     ]
    }
   ],
   "source": [
    "fruits=[\"Apple\",\"Banana\",\"Cherry\"]\n",
    "for i in range(len(fruits)):\n",
    "    print(fruits[i])"
   ]
  },
  {
   "cell_type": "code",
   "execution_count": 23,
   "id": "fc02cb3d",
   "metadata": {},
   "outputs": [
    {
     "name": "stdout",
     "output_type": "stream",
     "text": [
      "0\n",
      "1\n",
      "2\n",
      "3\n",
      "4\n",
      "5\n",
      "6\n",
      "7\n",
      "8\n",
      "9\n"
     ]
    }
   ],
   "source": [
    "for i in range(20):\n",
    "    if i==10:\n",
    "        break\n",
    "    print(i)"
   ]
  },
  {
   "cell_type": "code",
   "execution_count": 24,
   "id": "7efa3c4e",
   "metadata": {},
   "outputs": [
    {
     "name": "stdout",
     "output_type": "stream",
     "text": [
      "0\n",
      "1\n",
      "2\n",
      "3\n",
      "4\n",
      "5\n",
      "6\n",
      "7\n",
      "8\n",
      "9\n",
      "11\n",
      "12\n",
      "13\n",
      "14\n",
      "15\n",
      "16\n",
      "17\n",
      "18\n",
      "19\n"
     ]
    }
   ],
   "source": [
    "for i in range(20):\n",
    "    if i==10:\n",
    "        continue\n",
    "    print(i)"
   ]
  },
  {
   "cell_type": "code",
   "execution_count": 25,
   "id": "a33162ee",
   "metadata": {},
   "outputs": [
    {
     "name": "stdout",
     "output_type": "stream",
     "text": [
      "1\n",
      "3\n",
      "5\n",
      "7\n",
      "9\n",
      "11\n",
      "13\n",
      "15\n",
      "17\n",
      "19\n"
     ]
    }
   ],
   "source": [
    "for i in range(20):\n",
    "    if i%2==0:\n",
    "        continue\n",
    "    print(i)"
   ]
  },
  {
   "cell_type": "code",
   "execution_count": 28,
   "id": "25293f21",
   "metadata": {
    "scrolled": true
   },
   "outputs": [
    {
     "name": "stdout",
     "output_type": "stream",
     "text": [
      "1\n",
      "2\n",
      "3\n",
      "4\n",
      "6\n",
      "7\n",
      "8\n",
      "9\n",
      "11\n",
      "12\n",
      "13\n",
      "14\n",
      "16\n",
      "17\n",
      "18\n",
      "19\n",
      "21\n"
     ]
    }
   ],
   "source": [
    "for i in range(22):\n",
    "    if i%5==0:\n",
    "        continue\n",
    "    print(i)"
   ]
  },
  {
   "cell_type": "code",
   "execution_count": 37,
   "id": "70f44174",
   "metadata": {},
   "outputs": [
    {
     "name": "stdout",
     "output_type": "stream",
     "text": [
      "a is less thn b\n"
     ]
    }
   ],
   "source": [
    "a = 200\n",
    "b = 3\n",
    "\n",
    "if b > a:\n",
    "     pass\n",
    "else:\n",
    "    print(\"a is less thn b\")\n"
   ]
  },
  {
   "cell_type": "code",
   "execution_count": 38,
   "id": "801f202f",
   "metadata": {},
   "outputs": [
    {
     "data": {
      "text/plain": [
       "'India'"
      ]
     },
     "execution_count": 38,
     "metadata": {},
     "output_type": "execute_result"
    }
   ],
   "source": [
    "a=\"India\"\n",
    "a"
   ]
  },
  {
   "cell_type": "code",
   "execution_count": 41,
   "id": "6241c473",
   "metadata": {},
   "outputs": [
    {
     "name": "stdout",
     "output_type": "stream",
     "text": [
      "0\n",
      "1\n",
      "2\n",
      "3\n",
      "4\n",
      "5\n",
      "6\n",
      "7\n",
      "8\n",
      "9\n"
     ]
    }
   ],
   "source": [
    "i=0\n",
    "while(i<10):\n",
    "    print(i)\n",
    "    i=i+1"
   ]
  },
  {
   "cell_type": "code",
   "execution_count": 47,
   "id": "6c499cda",
   "metadata": {},
   "outputs": [
    {
     "name": "stdout",
     "output_type": "stream",
     "text": [
      "1\t2\t3\t4\t5\t6\t7\t8\t9\t10\t\n",
      "2\t4\t6\t8\t10\t12\t14\t16\t18\t20\t\n",
      "3\t6\t9\t12\t15\t18\t21\t24\t27\t30\t\n",
      "4\t8\t12\t16\t20\t24\t28\t32\t36\t40\t\n",
      "5\t10\t15\t20\t25\t30\t35\t40\t45\t50\t\n",
      "6\t12\t18\t24\t30\t36\t42\t48\t54\t60\t\n",
      "7\t14\t21\t28\t35\t42\t49\t56\t63\t70\t\n",
      "8\t16\t24\t32\t40\t48\t56\t64\t72\t80\t\n",
      "9\t18\t27\t36\t45\t54\t63\t72\t81\t90\t\n",
      "10\t20\t30\t40\t50\t60\t70\t80\t90\t100\t\n"
     ]
    }
   ],
   "source": [
    "for i in range(1, 11):\n",
    "    for j in range(1, 11):\n",
    "         print(i*j,end=\"\\t\")\n",
    "    print()\n"
   ]
  },
  {
   "cell_type": "code",
   "execution_count": 50,
   "id": "e9960253",
   "metadata": {},
   "outputs": [
    {
     "name": "stdout",
     "output_type": "stream",
     "text": [
      "* \n",
      "* * \n",
      "* * * \n",
      "* * * * \n",
      "* * * * * \n"
     ]
    }
   ],
   "source": [
    "\n",
    "for i in range(5):\n",
    "    for j in range(i+1):\n",
    "        print(\"*\", end=\" \")\n",
    "    print()\n"
   ]
  },
  {
   "cell_type": "code",
   "execution_count": 53,
   "id": "e97c75b1",
   "metadata": {
    "scrolled": true
   },
   "outputs": [
    {
     "name": "stdout",
     "output_type": "stream",
     "text": [
      "* * * * * \n",
      "* * * * * \n",
      "* * * * * \n"
     ]
    }
   ],
   "source": [
    "for i in range(5):\n",
    "    for j in range(5):\n",
    "        print(\"*\" , end=\" \")\n",
    "    print()\n"
   ]
  },
  {
   "cell_type": "code",
   "execution_count": 54,
   "id": "3e621116",
   "metadata": {},
   "outputs": [
    {
     "name": "stdout",
     "output_type": "stream",
     "text": [
      "* * * * * \n",
      "*       * \n",
      "* * * * * \n"
     ]
    }
   ],
   "source": [
    "for i in range(3):\n",
    "    for j in range(5):\n",
    "        if(i==0 or i == 2 or j == 0 or j == 4):\n",
    "            print(\"*\" , end=\" \")\n",
    "        else:\n",
    "            print(\" \", end=\" \")\n",
    "    print()\n"
   ]
  },
  {
   "cell_type": "code",
   "execution_count": 55,
   "id": "a550da03",
   "metadata": {},
   "outputs": [
    {
     "name": "stdout",
     "output_type": "stream",
     "text": [
      "* * * * * * \n",
      "* * * * * \n",
      "* * * * \n",
      "* * * \n",
      "* * \n",
      "* \n"
     ]
    }
   ],
   "source": [
    "for i in range(6):\n",
    "    for j in range(6-i):\n",
    "        print(\"*\" , end=\" \")\n",
    "    print()\n"
   ]
  },
  {
   "cell_type": "code",
   "execution_count": 56,
   "id": "6ede32e5",
   "metadata": {},
   "outputs": [
    {
     "name": "stdout",
     "output_type": "stream",
     "text": [
      "1\t2\t3\t4\t5\t6\t7\t8\t9\t10\t\n",
      "\n",
      "2\t4\t6\t8\t10\t12\t14\t16\t18\t20\t\n",
      "\n",
      "3\t6\t9\t12\t15\t18\t21\t24\t27\t30\t\n",
      "\n",
      "4\t8\t12\t16\t20\t24\t28\t32\t36\t40\t\n",
      "\n",
      "5\t10\t15\t20\t25\t30\t35\t40\t45\t50\t\n",
      "\n",
      "6\t12\t18\t24\t30\t36\t42\t48\t54\t60\t\n",
      "\n",
      "7\t14\t21\t28\t35\t42\t49\t56\t63\t70\t\n",
      "\n",
      "8\t16\t24\t32\t40\t48\t56\t64\t72\t80\t\n",
      "\n",
      "9\t18\t27\t36\t45\t54\t63\t72\t81\t90\t\n",
      "\n",
      "10\t20\t30\t40\t50\t60\t70\t80\t90\t100\t\n",
      "\n"
     ]
    }
   ],
   "source": [
    "i=1\n",
    "while i<=10:\n",
    "  j=1\n",
    "  while j<=10:\n",
    "        print (i*j,end=\"\\t\")\n",
    "        j+=1\n",
    "  i+=1\n",
    "  print (\"\\n\")\n"
   ]
  },
  {
   "cell_type": "code",
   "execution_count": 57,
   "id": "1564c7b0",
   "metadata": {},
   "outputs": [
    {
     "name": "stdout",
     "output_type": "stream",
     "text": [
      "    * \n",
      "   * * \n",
      "  * * * \n",
      " * * * * \n",
      "* * * * * \n",
      "* * * * * \n",
      " * * * * \n",
      "  * * * \n",
      "   * * \n",
      "    * \n"
     ]
    }
   ],
   "source": [
    "\n"
   ]
  },
  {
   "cell_type": "code",
   "execution_count": null,
   "id": "1f171385",
   "metadata": {},
   "outputs": [],
   "source": []
  }
 ],
 "metadata": {
  "kernelspec": {
   "display_name": "Python 3 (ipykernel)",
   "language": "python",
   "name": "python3"
  },
  "language_info": {
   "codemirror_mode": {
    "name": "ipython",
    "version": 3
   },
   "file_extension": ".py",
   "mimetype": "text/x-python",
   "name": "python",
   "nbconvert_exporter": "python",
   "pygments_lexer": "ipython3",
   "version": "3.9.12"
  }
 },
 "nbformat": 4,
 "nbformat_minor": 5
}
