{
 "cells": [
  {
   "cell_type": "code",
   "execution_count": 1,
   "id": "7f51da6b",
   "metadata": {},
   "outputs": [
    {
     "name": "stdout",
     "output_type": "stream",
     "text": [
      "1\n",
      "2\n",
      "3\n",
      "4\n",
      "5\n",
      "6\n",
      "7\n",
      "8\n",
      "9\n",
      "done!!\n"
     ]
    }
   ],
   "source": [
    "# for while loop we have to remember initialization condition incrimentation\n",
    "i = 1\n",
    "while i<10:\n",
    "    print(i)\n",
    "    i+=1\n",
    "print(\"done!!\")"
   ]
  },
  {
   "cell_type": "code",
   "execution_count": 2,
   "id": "d720abb3",
   "metadata": {},
   "outputs": [
    {
     "name": "stdout",
     "output_type": "stream",
     "text": [
      "10\n",
      "9\n",
      "8\n",
      "7\n",
      "6\n",
      "5\n",
      "4\n",
      "3\n",
      "2\n",
      "done!\n"
     ]
    }
   ],
   "source": [
    "i =10\n",
    "while i>1:\n",
    "    print(i)\n",
    "    i =i-1\n",
    "print(\"done!\")"
   ]
  },
  {
   "cell_type": "code",
   "execution_count": 4,
   "id": "db9d38aa",
   "metadata": {},
   "outputs": [
    {
     "name": "stdout",
     "output_type": "stream",
     "text": [
      "1\n",
      "3\n",
      "5\n",
      "7\n",
      "9\n",
      "Done!\n"
     ]
    }
   ],
   "source": [
    "#for forloop we can use range function\n",
    "for i in range(1,10,2):\n",
    "    print(i)\n",
    "print(\"Done!\") "
   ]
  },
  {
   "cell_type": "code",
   "execution_count": 6,
   "id": "4d308626",
   "metadata": {},
   "outputs": [
    {
     "name": "stdout",
     "output_type": "stream",
     "text": [
      "0\n",
      "1\n",
      "2\n",
      "3\n",
      "4\n",
      "5\n",
      "6\n",
      "7\n",
      "8\n",
      "9\n"
     ]
    }
   ],
   "source": [
    "for i in range(10):\n",
    "    print(i)"
   ]
  },
  {
   "cell_type": "markdown",
   "id": "2b04b260",
   "metadata": {},
   "source": [
    "# Jumping Statements"
   ]
  },
  {
   "cell_type": "markdown",
   "id": "e4fec7aa",
   "metadata": {},
   "source": [
    "break function"
   ]
  },
  {
   "cell_type": "code",
   "execution_count": 7,
   "id": "edf70879",
   "metadata": {},
   "outputs": [
    {
     "name": "stdout",
     "output_type": "stream",
     "text": [
      "1\n",
      "2\n",
      "3\n",
      "4\n",
      "5\n",
      "Programme Existed!!!!\n"
     ]
    }
   ],
   "source": [
    "for i in range(1,10):\n",
    "    print(i)\n",
    "    if i == 5:\n",
    "        break\n",
    "print(\"Programme Existed!!!!\")"
   ]
  },
  {
   "cell_type": "markdown",
   "id": "6a1b1618",
   "metadata": {},
   "source": [
    "Continue function"
   ]
  },
  {
   "cell_type": "code",
   "execution_count": 10,
   "id": "e5ddcc37",
   "metadata": {},
   "outputs": [
    {
     "name": "stdout",
     "output_type": "stream",
     "text": [
      "1\n",
      "2\n",
      "3\n",
      "4\n",
      "5\n",
      "6\n",
      "7\n",
      "8\n",
      "9\n",
      "Programme existed!!!\n"
     ]
    }
   ],
   "source": [
    "for i in range(1,10):\n",
    "    print(i)\n",
    "    if i == 5:\n",
    "        continue\n",
    "print(\"Programme existed!!!\")"
   ]
  },
  {
   "cell_type": "code",
   "execution_count": 11,
   "id": "73dbf65f",
   "metadata": {},
   "outputs": [
    {
     "name": "stdout",
     "output_type": "stream",
     "text": [
      "100\n"
     ]
    }
   ],
   "source": [
    "print(max(10,20,30,40,50,60,70,80,90,100))"
   ]
  },
  {
   "cell_type": "code",
   "execution_count": 14,
   "id": "1550d27b",
   "metadata": {},
   "outputs": [
    {
     "name": "stdout",
     "output_type": "stream",
     "text": [
      "Welcome\n",
      "Welcome\n",
      "welcome\n"
     ]
    }
   ],
   "source": [
    "#Ways to creating String\n",
    "\n",
    "s= \"Welcome\"\n",
    "print(s)\n",
    "s= 'Welcome'\n",
    "print(s)\n",
    "s = str('welcome')\n",
    "print(s)"
   ]
  },
  {
   "cell_type": "code",
   "execution_count": 19,
   "id": "992e8e0d",
   "metadata": {},
   "outputs": [
    {
     "name": "stdout",
     "output_type": "stream",
     "text": [
      "Welcome Welcome \n",
      "Welcome  to PYTHON\n"
     ]
    }
   ],
   "source": [
    "S1 = \"Welcome \"\n",
    "S2=S1+\" to PYTHON\"\n",
    "S3= S1 *2\n",
    "print(S3)\n",
    "print(S2)"
   ]
  },
  {
   "cell_type": "markdown",
   "id": "4e166fcf",
   "metadata": {},
   "source": [
    "# Slicing"
   ]
  },
  {
   "cell_type": "code",
   "execution_count": 20,
   "id": "8512be10",
   "metadata": {},
   "outputs": [
    {
     "name": "stdout",
     "output_type": "stream",
     "text": [
      "el\n"
     ]
    }
   ],
   "source": [
    "S = \"welcome\"\n",
    "print(S[1:3])"
   ]
  },
  {
   "cell_type": "code",
   "execution_count": 21,
   "id": "4800533a",
   "metadata": {},
   "outputs": [
    {
     "name": "stdout",
     "output_type": "stream",
     "text": [
      "welcome\n"
     ]
    }
   ],
   "source": [
    "print(S[:])"
   ]
  },
  {
   "cell_type": "code",
   "execution_count": 22,
   "id": "75a82767",
   "metadata": {},
   "outputs": [
    {
     "name": "stdout",
     "output_type": "stream",
     "text": [
      "welcome\n"
     ]
    }
   ],
   "source": [
    "print(S[0:])"
   ]
  },
  {
   "cell_type": "code",
   "execution_count": 23,
   "id": "30144695",
   "metadata": {},
   "outputs": [
    {
     "name": "stdout",
     "output_type": "stream",
     "text": [
      "welcom\n"
     ]
    }
   ],
   "source": [
    "print(S[0:-1])"
   ]
  },
  {
   "cell_type": "code",
   "execution_count": 25,
   "id": "21f52ee7",
   "metadata": {},
   "outputs": [
    {
     "name": "stdout",
     "output_type": "stream",
     "text": [
      "emoclew\n"
     ]
    }
   ],
   "source": [
    "print(S[::-1])"
   ]
  },
  {
   "cell_type": "code",
   "execution_count": 27,
   "id": "ab8fc952",
   "metadata": {},
   "outputs": [
    {
     "name": "stdout",
     "output_type": "stream",
     "text": [
      "emoclew\n"
     ]
    }
   ],
   "source": [
    "print(S[6::-1])"
   ]
  },
  {
   "cell_type": "code",
   "execution_count": 28,
   "id": "dccd2bca",
   "metadata": {},
   "outputs": [
    {
     "name": "stdout",
     "output_type": "stream",
     "text": [
      "eolw\n"
     ]
    }
   ],
   "source": [
    "print(S[6::-2])"
   ]
  },
  {
   "cell_type": "code",
   "execution_count": 33,
   "id": "1ed33f9a",
   "metadata": {},
   "outputs": [
    {
     "name": "stdout",
     "output_type": "stream",
     "text": [
      "True\n",
      "False\n"
     ]
    }
   ],
   "source": [
    "# in , not in operator\n",
    "S = \"Welcome\"\n",
    "print(\"come\" in S)\n",
    "print(\"come\" not in s)"
   ]
  },
  {
   "cell_type": "code",
   "execution_count": 41,
   "id": "804a90b6",
   "metadata": {},
   "outputs": [
    {
     "name": "stdout",
     "output_type": "stream",
     "text": [
      "Welcome\n",
      "Welcome\n",
      "welcome\n",
      "WELCOME\n",
      "WELCOME\n"
     ]
    }
   ],
   "source": [
    "S = \"welcome\"\n",
    "S1 = S.capitalize()\n",
    "print(S1)\n",
    "S2 = S.title()\n",
    "print(S2)\n",
    "S3= S.lower()\n",
    "print(S3)\n",
    "S4=S.upper()\n",
    "print(S4)\n",
    "S5 = S.swapcase() # upper lower to lower upper letters\n",
    "print(S5)"
   ]
  },
  {
   "cell_type": "markdown",
   "id": "86034b4c",
   "metadata": {},
   "source": [
    "\n",
    "# Collections"
   ]
  },
  {
   "cell_type": "markdown",
   "id": "2aef705a",
   "metadata": {},
   "source": [
    "List"
   ]
  },
  {
   "cell_type": "code",
   "execution_count": 42,
   "id": "25640fc7",
   "metadata": {},
   "outputs": [
    {
     "name": "stdout",
     "output_type": "stream",
     "text": [
      "[10, 20, 30, 40]\n",
      "['apple', 'banana', 'cherry', 'mango']\n",
      "['apple', 10, 'bananna', 20]\n",
      "[]\n"
     ]
    }
   ],
   "source": [
    "mylist1 = [10,20,30,40]\n",
    "mylist2 = [\"apple\", \"banana\", \"cherry\", \"mango\"]\n",
    "mylist3 = [\"apple\", 10, \"bananna\", 20]\n",
    "mylist4 = list()\n",
    "print(mylist1)\n",
    "print(mylist2)\n",
    "print(mylist3)\n",
    "print(mylist4)"
   ]
  },
  {
   "cell_type": "code",
   "execution_count": 47,
   "id": "e00ec86d",
   "metadata": {},
   "outputs": [
    {
     "name": "stdout",
     "output_type": "stream",
     "text": [
      "apple\n",
      "cherry\n",
      "mango\n",
      "['mango', 'cherry', 'banana', 'apple']\n",
      "[10, 'banana', 'cherry', 'mango']\n"
     ]
    }
   ],
   "source": [
    "mylist = [\"apple\", \"banana\", \"cherry\", \"mango\"]\n",
    "print(mylist[0])\n",
    "print(mylist[2])\n",
    "print(mylist[-1])\n",
    "print(mylist[::-1])\n",
    "mylist[0]= 10\n",
    "print(mylist)\n"
   ]
  },
  {
   "cell_type": "code",
   "execution_count": 48,
   "id": "1bdf2938",
   "metadata": {},
   "outputs": [
    {
     "name": "stdout",
     "output_type": "stream",
     "text": [
      "apple\n",
      "banana\n",
      "cherry\n",
      "mango\n"
     ]
    }
   ],
   "source": [
    "#read list items using loop\n",
    "mylist = [\"apple\", \"banana\", \"cherry\", \"mango\"]\n",
    "\n",
    "for i in mylist:\n",
    "    print(i)\n"
   ]
  },
  {
   "cell_type": "code",
   "execution_count": 49,
   "id": "d6a01a39",
   "metadata": {},
   "outputs": [
    {
     "name": "stdout",
     "output_type": "stream",
     "text": [
      "yes apple is present in my list\n"
     ]
    }
   ],
   "source": [
    "mylist = [\"apple\", \"banana\", \"cherry\", \"mango\"]\n",
    "\n",
    "if \"apple\" in mylist:\n",
    "    print(\"yes apple is present in my list\")\n",
    "else:\n",
    "    print(\"No apple is not present in mylist\")"
   ]
  },
  {
   "cell_type": "code",
   "execution_count": 50,
   "id": "91d525a7",
   "metadata": {},
   "outputs": [
    {
     "name": "stdout",
     "output_type": "stream",
     "text": [
      "4\n"
     ]
    }
   ],
   "source": [
    "mylist = [\"apple\", \"banana\", \"cherry\", \"mango\"]\n",
    "print(len(mylist))"
   ]
  },
  {
   "cell_type": "code",
   "execution_count": 52,
   "id": "66d2f120",
   "metadata": {},
   "outputs": [
    {
     "name": "stdout",
     "output_type": "stream",
     "text": [
      "['apple', 'banana', 'cherry', 'mango', 'orange']\n"
     ]
    }
   ],
   "source": [
    "#append() , insert()\n",
    "mylist = [\"apple\", \"banana\", \"cherry\", \"mango\"]\n",
    "mylist.append(\"orange\") # append will add at end of list\n",
    "print(mylist)"
   ]
  },
  {
   "cell_type": "code",
   "execution_count": 53,
   "id": "c8f2b967",
   "metadata": {},
   "outputs": [
    {
     "name": "stdout",
     "output_type": "stream",
     "text": [
      "['apple', 'orange', 'banana', 'cherry', 'mango']\n"
     ]
    }
   ],
   "source": [
    "mylist = [\"apple\", \"banana\", \"cherry\", \"mango\"]\n",
    "mylist.insert(1,\"orange\") # insert will add indexing of 1\n",
    "print(mylist)"
   ]
  },
  {
   "cell_type": "code",
   "execution_count": 69,
   "id": "6cef68c7",
   "metadata": {},
   "outputs": [
    {
     "name": "stdout",
     "output_type": "stream",
     "text": [
      "['banana', 'cherry', 'mango']\n"
     ]
    }
   ],
   "source": [
    "#remove items from the list pop(), del(), clear()\n",
    "\n",
    "mylist = [\"apple\", \"banana\", \"cherry\", \"mango\"]\n",
    "mylist.pop(0)# pop() will delete based on indexing\n",
    "print(mylist)"
   ]
  },
  {
   "cell_type": "code",
   "execution_count": 70,
   "id": "66f3bac0",
   "metadata": {},
   "outputs": [
    {
     "name": "stdout",
     "output_type": "stream",
     "text": [
      "['banana', 'cherry', 'mango']\n"
     ]
    }
   ],
   "source": [
    "mylist = [\"apple\", \"banana\", \"cherry\", \"mango\"]\n",
    "del mylist[0]# del value based on key value in list\n",
    "print(mylist)"
   ]
  },
  {
   "cell_type": "code",
   "execution_count": 72,
   "id": "ffa92d69",
   "metadata": {},
   "outputs": [
    {
     "name": "stdout",
     "output_type": "stream",
     "text": [
      "[]\n"
     ]
    }
   ],
   "source": [
    "mylist = [\"apple\", \"banana\", \"cherry\", \"mango\"]\n",
    "\n",
    "mylist.clear()\n",
    "print(mylist)"
   ]
  },
  {
   "cell_type": "code",
   "execution_count": null,
   "id": "09969278",
   "metadata": {},
   "outputs": [],
   "source": []
  }
 ],
 "metadata": {
  "kernelspec": {
   "display_name": "Python 3 (ipykernel)",
   "language": "python",
   "name": "python3"
  },
  "language_info": {
   "codemirror_mode": {
    "name": "ipython",
    "version": 3
   },
   "file_extension": ".py",
   "mimetype": "text/x-python",
   "name": "python",
   "nbconvert_exporter": "python",
   "pygments_lexer": "ipython3",
   "version": "3.9.13"
  }
 },
 "nbformat": 4,
 "nbformat_minor": 5
}
