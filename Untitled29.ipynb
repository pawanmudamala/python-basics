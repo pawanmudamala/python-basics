{
 "cells": [
  {
   "cell_type": "code",
   "execution_count": 1,
   "id": "2073ab0b",
   "metadata": {},
   "outputs": [
    {
     "name": "stdout",
     "output_type": "stream",
     "text": [
      "300\n"
     ]
    }
   ],
   "source": [
    "x=100\n",
    "y=200\n",
    "print(x+y)"
   ]
  },
  {
   "cell_type": "code",
   "execution_count": 3,
   "id": "b5f53286",
   "metadata": {},
   "outputs": [
    {
     "name": "stdout",
     "output_type": "stream",
     "text": [
      "10\n"
     ]
    }
   ],
   "source": [
    "x=\"Welcome\"\n",
    "y=\"Python\"\n",
    "x=10\n",
    "print(x)"
   ]
  },
  {
   "cell_type": "code",
   "execution_count": 7,
   "id": "876ae8e7",
   "metadata": {},
   "outputs": [
    {
     "name": "stdout",
     "output_type": "stream",
     "text": [
      "<class 'str'>\n",
      "<class 'str'>\n",
      "<class 'bool'>\n",
      "<class 'str'>\n"
     ]
    }
   ],
   "source": [
    "x= \"Wwelcome\"\n",
    "y = \"210\"\n",
    "s= True\n",
    "z= \"10.5\"\n",
    "\n",
    "print(type(x))\n",
    "print(type(y))\n",
    "print(type(s))\n",
    "print(type(z))"
   ]
  },
  {
   "cell_type": "code",
   "execution_count": 11,
   "id": "dd37c1cb",
   "metadata": {},
   "outputs": [
    {
     "name": "stdout",
     "output_type": "stream",
     "text": [
      "20 10\n"
     ]
    }
   ],
   "source": [
    "x,y=10,20\n",
    "x,y=y,x\n",
    "print(x,y)\n"
   ]
  },
  {
   "cell_type": "code",
   "execution_count": 15,
   "id": "d371f3f1",
   "metadata": {},
   "outputs": [
    {
     "name": "stdout",
     "output_type": "stream",
     "text": [
      "20\n"
     ]
    }
   ],
   "source": [
    "x=10\n",
    "y=20\n",
    "del x\n",
    "print(y)"
   ]
  },
  {
   "cell_type": "code",
   "execution_count": 19,
   "id": "e204402c",
   "metadata": {},
   "outputs": [
    {
     "name": "stdout",
     "output_type": "stream",
     "text": [
      "10\n"
     ]
    }
   ],
   "source": [
    "a=\"Welcome\"\n",
    "\n",
    "a=\"10\"\n",
    "print(a)"
   ]
  },
  {
   "cell_type": "markdown",
   "id": "232aa50c",
   "metadata": {},
   "source": [
    "# operators\n"
   ]
  },
  {
   "cell_type": "markdown",
   "id": "fbef98e3",
   "metadata": {},
   "source": [
    "1.Arithmatic Operators"
   ]
  },
  {
   "cell_type": "code",
   "execution_count": 47,
   "id": "05fc7009",
   "metadata": {},
   "outputs": [
    {
     "name": "stdout",
     "output_type": "stream",
     "text": [
      "12\n",
      "8\n",
      "20\n",
      "5.0\n",
      "5\n",
      "0\n",
      "100\n"
     ]
    }
   ],
   "source": [
    "a=10\n",
    "b=2\n",
    "print(a+b)\n",
    "print(a-b)\n",
    "print(a*b)\n",
    "print(a/b)#Division\n",
    "print(a//b)#Reminder\n",
    "print(a%b)#Quotient\n",
    "print(a**b)#Square\n"
   ]
  },
  {
   "cell_type": "markdown",
   "id": "1ff1b3d6",
   "metadata": {},
   "source": [
    "# Relational Operators"
   ]
  },
  {
   "cell_type": "code",
   "execution_count": 25,
   "id": "945156eb",
   "metadata": {},
   "outputs": [
    {
     "name": "stdout",
     "output_type": "stream",
     "text": [
      "True\n",
      "False\n",
      "False\n",
      "True\n",
      "False\n",
      "True\n"
     ]
    }
   ],
   "source": [
    "a=10\n",
    "b=5 \n",
    "print(a>b)\n",
    "print(a<b)\n",
    "print(a<=b)\n",
    "print(a>=b)\n",
    "print(a==b)\n",
    "print(a!=b)"
   ]
  },
  {
   "cell_type": "markdown",
   "id": "95da1796",
   "metadata": {},
   "source": [
    "3. Logical Operators"
   ]
  },
  {
   "cell_type": "code",
   "execution_count": 26,
   "id": "81fc4bc1",
   "metadata": {},
   "outputs": [
    {
     "name": "stdout",
     "output_type": "stream",
     "text": [
      "False\n",
      "True\n",
      "False\n"
     ]
    }
   ],
   "source": [
    "#Logical operators are___ and or not\n",
    "\n",
    "a = True\n",
    "b = False\n",
    "print(a and b)\n",
    "print(a or b)\n",
    "print(not a)"
   ]
  },
  {
   "cell_type": "markdown",
   "id": "e50999d9",
   "metadata": {},
   "source": [
    "# Concatination"
   ]
  },
  {
   "cell_type": "code",
   "execution_count": 27,
   "id": "43d56485",
   "metadata": {},
   "outputs": [
    {
     "name": "stdout",
     "output_type": "stream",
     "text": [
      "20.5\n"
     ]
    }
   ],
   "source": [
    "print(10+10.5)"
   ]
  },
  {
   "cell_type": "code",
   "execution_count": 29,
   "id": "dddaac9c",
   "metadata": {},
   "outputs": [
    {
     "name": "stdout",
     "output_type": "stream",
     "text": [
      "welcome to python Course\n"
     ]
    }
   ],
   "source": [
    "a = \"welcome to python\"\n",
    "b = \" Course\"\n",
    "print(a+b)"
   ]
  },
  {
   "cell_type": "markdown",
   "id": "f941803f",
   "metadata": {},
   "source": [
    "Formating"
   ]
  },
  {
   "cell_type": "code",
   "execution_count": 33,
   "id": "3f17afdc",
   "metadata": {},
   "outputs": [
    {
     "name": "stdout",
     "output_type": "stream",
     "text": [
      "pavan 27 5000\n",
      "Name is:pavan age is: 27 salary is: 5000\n",
      "Name is:pavan Age is:27 salary is:5000\n"
     ]
    }
   ],
   "source": [
    "name = \"pavan\"\n",
    "age = 27\n",
    "sal = 5000\n",
    "print(name,age, sal)\n",
    "print(\"Name is:%s age is: %d salary is: %g\" %(name,age,sal))\n",
    "print(\"Name is:{} Age is:{} salary is:{}\".format(name,age,sal))"
   ]
  },
  {
   "cell_type": "markdown",
   "id": "fa4e8832",
   "metadata": {},
   "source": [
    "Input from User"
   ]
  },
  {
   "cell_type": "code",
   "execution_count": 35,
   "id": "b30a8388",
   "metadata": {},
   "outputs": [
    {
     "name": "stdout",
     "output_type": "stream",
     "text": [
      "Enter your first number:10\n",
      "Enter your second Number:20\n",
      "<class 'str'>\n",
      "<class 'str'>\n"
     ]
    }
   ],
   "source": [
    "num1=input(\"Enter your first number:\")\n",
    "num2=input(\"Enter your second Number:\")\n",
    "print(type(num1))\n",
    "print(type(num2))"
   ]
  },
  {
   "cell_type": "code",
   "execution_count": 43,
   "id": "2ea9a980",
   "metadata": {},
   "outputs": [
    {
     "name": "stdout",
     "output_type": "stream",
     "text": [
      "Enter your first number: 10\n",
      "Enter your second Number: 30\n",
      "40.0\n"
     ]
    }
   ],
   "source": [
    "num1=int(input(\"Enter your first number: \"))\n",
    "num2=int(input(\"Enter your second Number: \"))\n",
    "print(float(num1+num2))"
   ]
  },
  {
   "cell_type": "markdown",
   "id": "3088c7cc",
   "metadata": {},
   "source": [
    "# Control Statement"
   ]
  },
  {
   "cell_type": "markdown",
   "id": "7b438f21",
   "metadata": {},
   "source": [
    "conditional Statement # if if..else elif"
   ]
  },
  {
   "cell_type": "code",
   "execution_count": 45,
   "id": "99fa0403",
   "metadata": {},
   "outputs": [
    {
     "name": "stdout",
     "output_type": "stream",
     "text": [
      "Please enter your age: 15\n",
      "He/She are not Eligible for vote\n"
     ]
    }
   ],
   "source": [
    "# print if he/she eligible for vot or not\n",
    "\n",
    "age = int(input(\"Please enter your age: \"))\n",
    "\n",
    "if age >= 18:\n",
    "    print(\"He/She are eligible for vote\")\n",
    "\n",
    "else:\n",
    "    print(\"He/She are not eligible for vote\")"
   ]
  },
  {
   "cell_type": "code",
   "execution_count": 46,
   "id": "134a08bf",
   "metadata": {},
   "outputs": [
    {
     "name": "stdout",
     "output_type": "stream",
     "text": [
      "Please enter your age: 20\n",
      "true condition\n"
     ]
    }
   ],
   "source": [
    "age = int(input(\"Please enter your age: \"))\n",
    "if True:\n",
    "    print(\"true condition\")\n",
    "    \n",
    "else:\n",
    "    print(\"false condition\")"
   ]
  },
  {
   "cell_type": "code",
   "execution_count": 50,
   "id": "024ea146",
   "metadata": {},
   "outputs": [
    {
     "name": "stdout",
     "output_type": "stream",
     "text": [
      "Please enter a number: 13\n",
      "you have entered odd number\n"
     ]
    }
   ],
   "source": [
    "# find a number i even or not\n",
    "\n",
    "Num = int(input(\"Please enter a number: \"))\n",
    "\n",
    "if Num%2==0:\n",
    "    print(\"you have entred even number\")\n",
    "\n",
    "else: \n",
    "    print(\"you have entered odd number\")"
   ]
  },
  {
   "cell_type": "code",
   "execution_count": 56,
   "id": "90f05f0d",
   "metadata": {},
   "outputs": [
    {
     "name": "stdout",
     "output_type": "stream",
     "text": [
      "even number\n"
     ]
    }
   ],
   "source": [
    "num = 12\n",
    "print(\"even number\") if num%2==0 else print(\"odd number\")"
   ]
  },
  {
   "cell_type": "code",
   "execution_count": 55,
   "id": "628168f0",
   "metadata": {},
   "outputs": [
    {
     "name": "stdout",
     "output_type": "stream",
     "text": [
      "Please enter a number: 20\n",
      "hello\n",
      "python\n"
     ]
    },
    {
     "data": {
      "text/plain": [
       "{None}"
      ]
     },
     "execution_count": 55,
     "metadata": {},
     "output_type": "execute_result"
    }
   ],
   "source": [
    "# multiple statements in a single line\n",
    "\n",
    "a = int(input(\"Please enter a number: \"))\n",
    "{print(\"hello\"),print(\"python\")} if a>10 else {print(\"java\"),print(\"hi\")}"
   ]
  },
  {
   "cell_type": "code",
   "execution_count": 71,
   "id": "201902bb",
   "metadata": {},
   "outputs": [
    {
     "name": "stdout",
     "output_type": "stream",
     "text": [
      "please enter number 1 to 7: 7\n",
      "Sunday\n"
     ]
    }
   ],
   "source": [
    "#identify week using numbers\n",
    "\n",
    "weeknumber= int(input(\"please enter number 1 to 7: \"))\n",
    "\n",
    "if weeknumber ==1:\n",
    "    print(\"Monday\")\n",
    "elif weeknumber ==2:\n",
    "    print(\"Tuesday\")\n",
    "elif weeknumber ==3:\n",
    "    print(\"wedneseday\")\n",
    "elif weeknumber ==4:\n",
    "    print(\"Thursday\")\n",
    "elif weeknumber ==5:\n",
    "    print(\"Friday\")\n",
    "elif weeknumber ==6:\n",
    "    print(\"Saturday\")\n",
    "elif weeknumber ==7:\n",
    "    print(\"Sunday\")\n",
    "else:\n",
    "    print(\"Please enter valid number\")"
   ]
  },
  {
   "cell_type": "code",
   "execution_count": 73,
   "id": "511e94ca",
   "metadata": {},
   "outputs": [
    {
     "name": "stdout",
     "output_type": "stream",
     "text": [
      "Please enter a number: 10\n",
      "you entered positive number\n"
     ]
    }
   ],
   "source": [
    "# given number is positive or not\n",
    "\n",
    "a = int(input(\"Please enter a number: \"))\n",
    "\n",
    "if a>= 0:\n",
    "    print(\"you entered positive number\")\n",
    "else:\n",
    "    print(\"you have entred negative number\")"
   ]
  },
  {
   "cell_type": "code",
   "execution_count": 82,
   "id": "7d2e37eb",
   "metadata": {},
   "outputs": [
    {
     "name": "stdout",
     "output_type": "stream",
     "text": [
      "please enter a number: 10\n",
      "please enter a number: 10\n",
      "10 10\n"
     ]
    }
   ],
   "source": [
    "#check largest of two numbers\n",
    "\n",
    "a = int(input(\"please enter a number: \"))\n",
    "b = int(input(\"please enter a number: \"))\n",
    "\n",
    "if a > b:\n",
    "    print(a)\n",
    "elif a == b:\n",
    "    print(a,b)\n",
    "else:\n",
    "    print(b)"
   ]
  },
  {
   "cell_type": "code",
   "execution_count": 83,
   "id": "5ba8e068",
   "metadata": {},
   "outputs": [
    {
     "name": "stdout",
     "output_type": "stream",
     "text": [
      "Enter week number: Monday\n",
      "1\n"
     ]
    }
   ],
   "source": [
    "a = input(\"Enter week number: \")\n",
    "\n",
    "if a == \"Monday\":\n",
    "    print(1)\n",
    "else:\n",
    "    print(\"wrong number\")"
   ]
  },
  {
   "cell_type": "code",
   "execution_count": 84,
   "id": "30e6ee9f",
   "metadata": {},
   "outputs": [
    {
     "name": "stdout",
     "output_type": "stream",
     "text": [
      "[1, 2, 3, 4, 5, 6, 7, 8, 9]\n"
     ]
    }
   ],
   "source": [
    "print(list(range(1,10)))"
   ]
  },
  {
   "cell_type": "code",
   "execution_count": 85,
   "id": "d3cc3a92",
   "metadata": {},
   "outputs": [
    {
     "name": "stdout",
     "output_type": "stream",
     "text": [
      "[1, 3, 5, 7, 9]\n"
     ]
    }
   ],
   "source": [
    "print(list(range(1,10,2)))"
   ]
  },
  {
   "cell_type": "code",
   "execution_count": 86,
   "id": "430357f0",
   "metadata": {},
   "outputs": [
    {
     "name": "stdout",
     "output_type": "stream",
     "text": [
      "[0, 2, 4, 6, 8]\n"
     ]
    }
   ],
   "source": [
    "print(list(range(0,10,2)))"
   ]
  },
  {
   "cell_type": "code",
   "execution_count": null,
   "id": "b28e20bf",
   "metadata": {},
   "outputs": [],
   "source": [
    "print(list(range(10,0,-1)))"
   ]
  },
  {
   "cell_type": "markdown",
   "id": "d8c2b6f0",
   "metadata": {},
   "source": [
    "while loop"
   ]
  },
  {
   "cell_type": "code",
   "execution_count": null,
   "id": "e72625dc",
   "metadata": {},
   "outputs": [],
   "source": []
  },
  {
   "cell_type": "code",
   "execution_count": null,
   "id": "a2035724",
   "metadata": {},
   "outputs": [],
   "source": []
  }
 ],
 "metadata": {
  "kernelspec": {
   "display_name": "Python 3 (ipykernel)",
   "language": "python",
   "name": "python3"
  },
  "language_info": {
   "codemirror_mode": {
    "name": "ipython",
    "version": 3
   },
   "file_extension": ".py",
   "mimetype": "text/x-python",
   "name": "python",
   "nbconvert_exporter": "python",
   "pygments_lexer": "ipython3",
   "version": "3.9.13"
  }
 },
 "nbformat": 4,
 "nbformat_minor": 5
}
