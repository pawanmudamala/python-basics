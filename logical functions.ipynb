{
 "cells": [
  {
   "cell_type": "code",
   "execution_count": 2,
   "id": "ddc18c80",
   "metadata": {},
   "outputs": [
    {
     "name": "stdout",
     "output_type": "stream",
     "text": [
      "Enter your age: 15\n",
      "you are not Eligible for vote.\n"
     ]
    }
   ],
   "source": [
    "# If statements\n",
    "age = int(input(\"Enter your age: \"))\n",
    "\n",
    "if age>=18:\n",
    "    print(\"You can eligible for vote.\")\n",
    "else:\n",
    "    print(\"you are not Eligible for vote.\")\n"
   ]
  },
  {
   "cell_type": "code",
   "execution_count": 5,
   "id": "e79997d8",
   "metadata": {},
   "outputs": [
    {
     "name": "stdout",
     "output_type": "stream",
     "text": [
      "enter Number: -7\n",
      "Positive number\n"
     ]
    }
   ],
   "source": [
    "num = int(input(\"enter Number: \"))\n",
    "\n",
    "if (num%2 == 0):\n",
    "    print(\"Even number\")\n",
    "elif (num%2 > 0):\n",
    "    print(\"Positive number\")\n",
    "elif (num%2 < 0):\n",
    "    print(\"Negative number\")\n",
    "else:\n",
    "    print(\"odd number\")"
   ]
  },
  {
   "cell_type": "code",
   "execution_count": 7,
   "id": "3d212c8b",
   "metadata": {},
   "outputs": [
    {
     "name": "stdout",
     "output_type": "stream",
     "text": [
      "enter Number: -7\n",
      "Negative number\n"
     ]
    }
   ],
   "source": [
    "num = int(input(\"enter Number: \"))\n",
    "\n",
    "if (num%2 == 0):\n",
    "    print(\"Even number\")\n",
    "elif (num > 0):\n",
    "    print(\"Positive number\")\n",
    "elif (num < 0):\n",
    "    print(\"Negative number\")\n",
    "else:\n",
    "    print(\"odd number\")"
   ]
  },
  {
   "cell_type": "code",
   "execution_count": 8,
   "id": "0a9e201b",
   "metadata": {},
   "outputs": [
    {
     "name": "stdout",
     "output_type": "stream",
     "text": [
      "enter Number: 14\n",
      "Even number\n",
      "Positive number\n",
      "odd number\n"
     ]
    }
   ],
   "source": [
    "num = int(input(\"enter Number: \"))\n",
    "\n",
    "if (num%2 == 0):\n",
    "    print(\"Even number\")\n",
    "if (num > 0):\n",
    "    print(\"Positive number\")\n",
    "if (num < 0):\n",
    "    print(\"Negative number\")\n",
    "else:\n",
    "    print(\"odd number\")"
   ]
  },
  {
   "cell_type": "code",
   "execution_count": 11,
   "id": "ccb1e214",
   "metadata": {},
   "outputs": [
    {
     "name": "stdout",
     "output_type": "stream",
     "text": [
      "Enter a number 20\n",
      "positive number.\n",
      "Even number\n"
     ]
    }
   ],
   "source": [
    "#nested if statement\n",
    "a = int(input(\"Enter a number \"))\n",
    "if a>0:\n",
    "    print(\"positive number.\")\n",
    "    if(a%2 == 0):\n",
    "        print(\"Even number\")\n",
    "    else:\n",
    "        (\"positive\")\n",
    "else:\n",
    "    print(\"Negative\")"
   ]
  },
  {
   "cell_type": "code",
   "execution_count": 16,
   "id": "674ce2fb",
   "metadata": {},
   "outputs": [
    {
     "name": "stdout",
     "output_type": "stream",
     "text": [
      "Enter pH value: 13\n",
      "strong base\n"
     ]
    }
   ],
   "source": [
    "pH_value = float(input(\"Enter pH value: \"))\n",
    "\n",
    "if pH_value <= 3:\n",
    "    print(\"Strong acid\")\n",
    "elif pH_value <= 6:\n",
    "    print(\"weak acid\")\n",
    "elif pH_value ==7:\n",
    "    print(\"neutral\")\n",
    "elif pH_value <11:\n",
    "    print(\"weak base\")\n",
    "elif pH_value <14:\n",
    "    print(\"strong base\")\n",
    "else:\n",
    "    print(\"not valid\")"
   ]
  },
  {
   "cell_type": "code",
   "execution_count": null,
   "id": "e5c8fdf7",
   "metadata": {},
   "outputs": [],
   "source": []
  }
 ],
 "metadata": {
  "kernelspec": {
   "display_name": "Python 3 (ipykernel)",
   "language": "python",
   "name": "python3"
  },
  "language_info": {
   "codemirror_mode": {
    "name": "ipython",
    "version": 3
   },
   "file_extension": ".py",
   "mimetype": "text/x-python",
   "name": "python",
   "nbconvert_exporter": "python",
   "pygments_lexer": "ipython3",
   "version": "3.9.13"
  }
 },
 "nbformat": 4,
 "nbformat_minor": 5
}
