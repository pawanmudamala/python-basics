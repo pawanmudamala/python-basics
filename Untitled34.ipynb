{
 "cells": [
  {
   "cell_type": "code",
   "execution_count": null,
   "id": "a216ac98",
   "metadata": {},
   "outputs": [],
   "source": [
    "# If statements\n",
    "age = int(input(\"Enter your age: \"))\n",
    "\n",
    "if age>=18:\n",
    "    print(\"You can eligible for vote.\")\n",
    "else:\n",
    "    print(\"you are not Eligible for vote.\")\n"
   ]
  },
  {
   "cell_type": "code",
   "execution_count": null,
   "id": "3c7d0c20",
   "metadata": {},
   "outputs": [],
   "source": [
    "num = int(input(\"enter Number: \"))\n",
    "\n",
    "if (num%2 == 0):\n",
    "    print(\"Even number\")\n",
    "elif (num%2 > 0):\n",
    "    print(\"Positive number\")\n",
    "elif (num%2 < 0):\n",
    "    print(\"Negative number\")\n",
    "else:\n",
    "    print(\"odd number\")"
   ]
  },
  {
   "cell_type": "code",
   "execution_count": null,
   "id": "75826da9",
   "metadata": {},
   "outputs": [],
   "source": [
    "num = int(input(\"enter Number: \"))\n",
    "\n",
    "if (num%2 == 0):\n",
    "    print(\"Even number\")\n",
    "elif (num > 0):\n",
    "    print(\"Positive number\")\n",
    "elif (num < 0):\n",
    "    print(\"Negative number\")\n",
    "else:\n",
    "    print(\"odd number\")"
   ]
  },
  {
   "cell_type": "code",
   "execution_count": null,
   "id": "d233fba4",
   "metadata": {},
   "outputs": [],
   "source": [
    "num = int(input(\"enter Number: \"))\n",
    "\n",
    "if (num%2 == 0):\n",
    "    print(\"Even number\")\n",
    "if (num > 0):\n",
    "    print(\"Positive number\")\n",
    "if (num < 0):\n",
    "    print(\"Negative number\")\n",
    "else:\n",
    "    print(\"odd number\")"
   ]
  },
  {
   "cell_type": "code",
   "execution_count": null,
   "id": "bd961097",
   "metadata": {},
   "outputs": [],
   "source": [
    "#nested if statement\n",
    "a = int(input(\"Enter a number \"))\n",
    "if a>0:\n",
    "    print(\"positive number.\")\n",
    "    if(a%2 == 0):\n",
    "        print(\"Even number\")\n",
    "    else:\n",
    "        (\"positive\")\n",
    "else:\n",
    "    print(\"Negative\")"
   ]
  },
  {
   "cell_type": "code",
   "execution_count": null,
   "id": "278aade4",
   "metadata": {},
   "outputs": [],
   "source": [
    "pH_value = float(input(\"Enter pH value: \"))\n",
    "\n",
    "if pH_value <= 3:\n",
    "    print(\"Strong acid\")\n",
    "elif pH_value <= 6:\n",
    "    print(\"weak acid\")\n",
    "elif pH_value ==7:\n",
    "    print(\"neutral\")\n",
    "elif pH_value <11:\n",
    "    print(\"weak base\")\n",
    "elif pH_value <14:\n",
    "    print(\"strong base\")\n",
    "else:\n",
    "    print(\"not valid\")"
   ]
  },
  {
   "cell_type": "code",
   "execution_count": null,
   "id": "98518ae0",
   "metadata": {},
   "outputs": [],
   "source": [
    "#loops\n",
    "for i in range(5):\n",
    "    print(\"pavan\")\n"
   ]
  },
  {
   "cell_type": "code",
   "execution_count": null,
   "id": "2e8f34fb",
   "metadata": {},
   "outputs": [],
   "source": [
    "for i in range(5): #i<5\n",
    "    print(i,\"pavan\")"
   ]
  },
  {
   "cell_type": "code",
   "execution_count": null,
   "id": "8d275d47",
   "metadata": {},
   "outputs": [],
   "source": [
    "for i in range(1,5): #i starts from 1 index\n",
    "    print(i,\"pavan\")"
   ]
  },
  {
   "cell_type": "code",
   "execution_count": null,
   "id": "233439cc",
   "metadata": {},
   "outputs": [],
   "source": [
    "for i in range(0,5,2): #i starts from 0 index and 2 steps\n",
    "    print(i,\"pavan\")"
   ]
  },
  {
   "cell_type": "code",
   "execution_count": null,
   "id": "6050256e",
   "metadata": {},
   "outputs": [],
   "source": [
    "i = 5\n",
    "for i in range(i):\n",
    "    print(\"pavan\")"
   ]
  },
  {
   "cell_type": "code",
   "execution_count": null,
   "id": "e033edc2",
   "metadata": {},
   "outputs": [],
   "source": [
    "a = \"India\"\n",
    "for i in a:\n",
    "    print(i)"
   ]
  },
  {
   "cell_type": "code",
   "execution_count": null,
   "id": "d32bab2f",
   "metadata": {},
   "outputs": [],
   "source": [
    "a = \"India\"\n",
    "for i in range(len(a)):\n",
    "    print(a)"
   ]
  },
  {
   "cell_type": "code",
   "execution_count": null,
   "id": "2622e382",
   "metadata": {},
   "outputs": [],
   "source": [
    "a = \"India\"\n",
    "for i in range(len(a)):\n",
    "    print(a[i])"
   ]
  },
  {
   "cell_type": "code",
   "execution_count": null,
   "id": "24a235b3",
   "metadata": {},
   "outputs": [],
   "source": [
    "fruits = [\"bananna\",\"apple\",\"mango\"]\n",
    "for i in range(len(fruits)):\n",
    "    print(fruits[i])"
   ]
  },
  {
   "cell_type": "code",
   "execution_count": null,
   "id": "5d2aceb8",
   "metadata": {},
   "outputs": [],
   "source": [
    "fruits = [\"bananna\",\"apple\",\"mango\"]\n",
    "for i in range(len(fruits)):\n",
    "    print(i)"
   ]
  },
  {
   "cell_type": "code",
   "execution_count": null,
   "id": "a94f65cb",
   "metadata": {},
   "outputs": [],
   "source": [
    "fruits = [\"bananna\",\"apple\",\"mango\"]\n",
    "for i in range(len(fruits)):\n",
    "    print(fruits)"
   ]
  },
  {
   "cell_type": "code",
   "execution_count": null,
   "id": "825be424",
   "metadata": {},
   "outputs": [],
   "source": [
    "#break continue \n",
    "\n",
    "for i in range(20):\n",
    "    if i == 5:\n",
    "        break\n",
    "    print(i)"
   ]
  },
  {
   "cell_type": "code",
   "execution_count": null,
   "id": "0a05a4f5",
   "metadata": {},
   "outputs": [],
   "source": [
    "for i in range(10):\n",
    "    if i%2 == 0:\n",
    "        continue\n",
    "    print(i)"
   ]
  },
  {
   "cell_type": "code",
   "execution_count": null,
   "id": "ebc15e30",
   "metadata": {},
   "outputs": [],
   "source": [
    "a = 33     # hold statement need to write in future\n",
    "b = 200\n",
    "if b>a:\n",
    "    pass"
   ]
  },
  {
   "cell_type": "code",
   "execution_count": null,
   "id": "758f84ef",
   "metadata": {},
   "outputs": [],
   "source": [
    "for i in (\"apple\"):\n",
    "    if i == \"l\":\n",
    "        break\n",
    "    print(i)"
   ]
  },
  {
   "cell_type": "code",
   "execution_count": null,
   "id": "9d252762",
   "metadata": {},
   "outputs": [],
   "source": [
    "#While loop start stop step\n",
    "\n",
    "# difference between for and while loop for forloop aonly one condition work while loop is work multiple state ments\n",
    "i = 0\n",
    "while i <5:\n",
    "    print(i)\n",
    "    i =i+1\n"
   ]
  },
  {
   "cell_type": "code",
   "execution_count": null,
   "id": "bbf45478",
   "metadata": {},
   "outputs": [],
   "source": [
    "for i in range(1,11):\n",
    "    for j in range(1,11):\n",
    "        print(i*2,end=\"\\t\")\n",
    "    print()"
   ]
  },
  {
   "cell_type": "code",
   "execution_count": null,
   "id": "fcd13bbc",
   "metadata": {},
   "outputs": [],
   "source": [
    "rows = 5\n",
    "for i in range(5):\n",
    "    for j in range(i+1):\n",
    "        print(\"*\",end = \"\\t\")\n",
    "    print(' ')"
   ]
  },
  {
   "cell_type": "code",
   "execution_count": null,
   "id": "3a0072e5",
   "metadata": {},
   "outputs": [],
   "source": [
    "row = int(input())\n",
    "for i in range(row):\n",
    "    for j in range(i+1):\n",
    "        print(\"*\",end=\" \")\n",
    "    print(' ')"
   ]
  },
  {
   "cell_type": "code",
   "execution_count": 2,
   "id": "ec1b55c8",
   "metadata": {},
   "outputs": [
    {
     "name": "stdout",
     "output_type": "stream",
     "text": [
      "*\t*\t*\t*\t*\t\n",
      "*\t      *\t\n",
      "*\t*\t*\t*\t*\t\n"
     ]
    }
   ],
   "source": [
    "\n",
    "for i in range(3):\n",
    "    for j in range(5):\n",
    "        if (i==0 or i ==2 or j == 0 or j == 4):\n",
    "            print(\"*\",end = \"\\t\")\n",
    "        else:\n",
    "            print(\" \", end= \" \")\n",
    "        \n",
    "    print()\n",
    "    "
   ]
  },
  {
   "cell_type": "code",
   "execution_count": null,
   "id": "b20d1698",
   "metadata": {},
   "outputs": [],
   "source": [
    "for i in range(6):\n",
    "    for j in range(6-i):\n",
    "        print(\"*\",end=\" \")\n",
    "    print(' ')"
   ]
  },
  {
   "cell_type": "code",
   "execution_count": 5,
   "id": "0005600a",
   "metadata": {},
   "outputs": [
    {
     "name": "stdout",
     "output_type": "stream",
     "text": [
      "1\t2\t3\t4\t5\t6\t7\t8\t9\t10\t2\t4\t6\t8\t10\t12\t14\t16\t18\t20\t3\t6\t9\t12\t15\t18\t21\t24\t27\t30\t4\t8\t12\t16\t20\t24\t28\t32\t36\t40\t5\t10\t15\t20\t25\t30\t35\t40\t45\t50\t6\t12\t18\t24\t30\t36\t42\t48\t54\t60\t7\t14\t21\t28\t35\t42\t49\t56\t63\t70\t8\t16\t24\t32\t40\t48\t56\t64\t72\t80\t9\t18\t27\t36\t45\t54\t63\t72\t81\t90\t10\t20\t30\t40\t50\t60\t70\t80\t90\t100\t\n",
      "\n"
     ]
    }
   ],
   "source": [
    "i = 1\n",
    "while i<=10:\n",
    "    j = 1\n",
    "    while j<=10:\n",
    "        print(i*j,end=\"\\t\")\n",
    "        j=j+1\n",
    "    i = i+1\n",
    "print(\"\\n\")"
   ]
  },
  {
   "cell_type": "code",
   "execution_count": 6,
   "id": "7989acb5",
   "metadata": {},
   "outputs": [
    {
     "name": "stdout",
     "output_type": "stream",
     "text": [
      "['apple', 'banana', 12, True]\n"
     ]
    }
   ],
   "source": [
    "#list\n",
    "a = [\"apple\", \"banana\",12,True]\n",
    "print(a)\n"
   ]
  },
  {
   "cell_type": "code",
   "execution_count": 11,
   "id": "fddf4258",
   "metadata": {},
   "outputs": [
    {
     "name": "stdout",
     "output_type": "stream",
     "text": [
      "[12, 10, 45, 20]\n",
      "['jay', 'pavan', 'kumar']\n",
      "<class 'list'>\n",
      "jay\n"
     ]
    }
   ],
   "source": [
    "l = [12,10,45,20]\n",
    "l1 = [\"jay\",\"pavan\",\"kumar\"]\n",
    "print(l)\n",
    "print(l1)\n",
    "print(type(l))\n",
    "print(l1[0])"
   ]
  },
  {
   "cell_type": "code",
   "execution_count": 12,
   "id": "adf76eb6",
   "metadata": {},
   "outputs": [
    {
     "name": "stdout",
     "output_type": "stream",
     "text": [
      "75\n",
      "41\n",
      "23\n",
      "10\n"
     ]
    }
   ],
   "source": [
    "marks = [10,23,41,75]\n",
    "i =-1\n",
    "while i>=-4:\n",
    "    print(marks[i])\n",
    "    i = i-1"
   ]
  },
  {
   "cell_type": "code",
   "execution_count": 13,
   "id": "9af6697f",
   "metadata": {},
   "outputs": [
    {
     "name": "stdout",
     "output_type": "stream",
     "text": [
      "10\n",
      "23\n",
      "41\n",
      "75\n"
     ]
    }
   ],
   "source": [
    "marks = [10,23,41,75]\n",
    "i =0\n",
    "while i<4:\n",
    "    print(marks[i])\n",
    "    i = i+1"
   ]
  },
  {
   "cell_type": "code",
   "execution_count": 14,
   "id": "11ddbe1f",
   "metadata": {},
   "outputs": [
    {
     "data": {
      "text/plain": [
       "[111, 786, 2.23, 'john', 70.2]"
      ]
     },
     "execution_count": 14,
     "metadata": {},
     "output_type": "execute_result"
    }
   ],
   "source": [
    "list = ['abcd',786,2.23,'john',70.2]\n",
    "list[0]=111\n",
    "list"
   ]
  },
  {
   "cell_type": "code",
   "execution_count": 15,
   "id": "ec377ea9",
   "metadata": {},
   "outputs": [
    {
     "data": {
      "text/plain": [
       "[111, 'sam', 2000, 300.9, 'john', 70.2]"
      ]
     },
     "execution_count": 15,
     "metadata": {},
     "output_type": "execute_result"
    }
   ],
   "source": [
    "list[1:3] = ['sam',2000,300.9]\n",
    "list"
   ]
  },
  {
   "cell_type": "code",
   "execution_count": 17,
   "id": "6a755485",
   "metadata": {},
   "outputs": [
    {
     "data": {
      "text/plain": [
       "[111, 'sam', 2000, 300.9, 'john', 70.2, 'sena']"
      ]
     },
     "execution_count": 17,
     "metadata": {},
     "output_type": "execute_result"
    }
   ],
   "source": [
    "list.append(\"sena\")\n",
    "list"
   ]
  },
  {
   "cell_type": "code",
   "execution_count": 18,
   "id": "b775210f",
   "metadata": {},
   "outputs": [
    {
     "data": {
      "text/plain": [
       "[111, 'sam', 2000, 300.9, 'john', 70.2, 'sena', [1, 2, 3]]"
      ]
     },
     "execution_count": 18,
     "metadata": {},
     "output_type": "execute_result"
    }
   ],
   "source": [
    "list.append([1,2,3])\n",
    "list"
   ]
  },
  {
   "cell_type": "code",
   "execution_count": null,
   "id": "19859e31",
   "metadata": {},
   "outputs": [],
   "source": []
  }
 ],
 "metadata": {
  "kernelspec": {
   "display_name": "Python 3 (ipykernel)",
   "language": "python",
   "name": "python3"
  },
  "language_info": {
   "codemirror_mode": {
    "name": "ipython",
    "version": 3
   },
   "file_extension": ".py",
   "mimetype": "text/x-python",
   "name": "python",
   "nbconvert_exporter": "python",
   "pygments_lexer": "ipython3",
   "version": "3.9.13"
  }
 },
 "nbformat": 4,
 "nbformat_minor": 5
}
