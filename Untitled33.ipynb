{
 "cells": [
  {
   "cell_type": "code",
   "execution_count": 1,
   "id": "02f6e889",
   "metadata": {},
   "outputs": [
    {
     "name": "stdout",
     "output_type": "stream",
     "text": [
      "6\n"
     ]
    }
   ],
   "source": [
    "a = 3\n",
    "b = 5\n",
    "a ^= b\n",
    "print(a)"
   ]
  },
  {
   "cell_type": "code",
   "execution_count": 2,
   "id": "e22f5ac0",
   "metadata": {},
   "outputs": [
    {
     "name": "stdout",
     "output_type": "stream",
     "text": [
      "3\n"
     ]
    }
   ],
   "source": [
    "#bitwise Right shift \n",
    "print(15>>2)"
   ]
  },
  {
   "cell_type": "code",
   "execution_count": 3,
   "id": "e8bd3b88",
   "metadata": {},
   "outputs": [
    {
     "name": "stdout",
     "output_type": "stream",
     "text": [
      "28\n",
      "56\n"
     ]
    }
   ],
   "source": [
    "#left Shift\n",
    "print(14<<1)\n",
    "print(14<<2)"
   ]
  },
  {
   "cell_type": "markdown",
   "id": "c6cfda41",
   "metadata": {},
   "source": [
    "# python comparison operators\n"
   ]
  },
  {
   "cell_type": "code",
   "execution_count": 4,
   "id": "b6c523ad",
   "metadata": {},
   "outputs": [
    {
     "name": "stdout",
     "output_type": "stream",
     "text": [
      "False\n",
      "True\n",
      "False\n",
      "False\n",
      "True\n"
     ]
    }
   ],
   "source": [
    "print(10==20)\n",
    "print(10!=20)\n",
    "print(10>20)\n",
    "print(10>=20)\n",
    "print(10<=20)\n"
   ]
  },
  {
   "cell_type": "markdown",
   "id": "32efad7a",
   "metadata": {},
   "source": [
    "# python logical operators"
   ]
  },
  {
   "cell_type": "code",
   "execution_count": 5,
   "id": "1ecd2532",
   "metadata": {},
   "outputs": [
    {
     "name": "stdout",
     "output_type": "stream",
     "text": [
      "False\n"
     ]
    }
   ],
   "source": [
    "x = 5\n",
    "print(x<10 and x>8)"
   ]
  },
  {
   "cell_type": "code",
   "execution_count": 6,
   "id": "31362e48",
   "metadata": {},
   "outputs": [
    {
     "name": "stdout",
     "output_type": "stream",
     "text": [
      "False\n"
     ]
    }
   ],
   "source": [
    "x = 5\n",
    "print(x<5 or x>10)"
   ]
  },
  {
   "cell_type": "code",
   "execution_count": 7,
   "id": "9c3696fd",
   "metadata": {},
   "outputs": [
    {
     "name": "stdout",
     "output_type": "stream",
     "text": [
      "True\n"
     ]
    }
   ],
   "source": [
    "x = 5\n",
    "print(not(x>10 or x>8))"
   ]
  },
  {
   "cell_type": "code",
   "execution_count": 8,
   "id": "11fbe874",
   "metadata": {},
   "outputs": [
    {
     "name": "stdout",
     "output_type": "stream",
     "text": [
      "True\n",
      "False\n",
      "False\n"
     ]
    }
   ],
   "source": [
    "x = [\"apple\",\"mango\"]\n",
    "y = [\"apple\",\"bananna\"]\n",
    "z = x\n",
    "print(x is z)\n",
    "print(x is y)\n",
    "print(x==y)"
   ]
  },
  {
   "cell_type": "code",
   "execution_count": 9,
   "id": "3aacdbfb",
   "metadata": {},
   "outputs": [
    {
     "name": "stdout",
     "output_type": "stream",
     "text": [
      "True\n",
      "False\n"
     ]
    }
   ],
   "source": [
    "#membership operator\n",
    "x = [\"apple\",\"mango\"]\n",
    "print(\"mango\" in x)\n",
    "print(\"mango\" not in x)"
   ]
  },
  {
   "cell_type": "code",
   "execution_count": 11,
   "id": "b2245808",
   "metadata": {},
   "outputs": [
    {
     "name": "stdout",
     "output_type": "stream",
     "text": [
      "10\n",
      "20\n",
      "30\n",
      "10\n",
      "20\n",
      "30\n",
      "True\n"
     ]
    }
   ],
   "source": [
    "telugu = int(input())\n",
    "hindi = int(input())\n",
    "maths = int(input())\n",
    "N_score = telugu + hindi + maths\n",
    "telugu = int(input())\n",
    "hindi = int(input())\n",
    "maths = int(input())\n",
    "S_score = telugu + hindi + maths\n",
    "\n",
    "print(N_score == S_score)"
   ]
  },
  {
   "cell_type": "code",
   "execution_count": 12,
   "id": "51bb4ff4",
   "metadata": {
    "scrolled": true
   },
   "outputs": [
    {
     "name": "stdout",
     "output_type": "stream",
     "text": [
      "p\n",
      "pyt\n"
     ]
    }
   ],
   "source": [
    "# string = collection of characters\n",
    "s = \"python\"\n",
    "print(s[0])\n",
    "print(s[0:3])"
   ]
  },
  {
   "cell_type": "code",
   "execution_count": 13,
   "id": "d4e4edc6",
   "metadata": {},
   "outputs": [
    {
     "name": "stdout",
     "output_type": "stream",
     "text": [
      "mnin asdcvfg\n",
      "mning\n",
      "python\n",
      "python programmning\n",
      "pto rgamig\n",
      "g\n"
     ]
    }
   ],
   "source": [
    "a = \"python programmning\"\n",
    "print(a[-5:-1] + \" asdcvfg\")\n",
    "print(a[-5:])\n",
    "print(a[:6])\n",
    "#start stop step\n",
    "print(a[::1])\n",
    "print(a[::2])\n",
    "print(a[-1])"
   ]
  },
  {
   "cell_type": "code",
   "execution_count": 14,
   "id": "92c0a2a4",
   "metadata": {},
   "outputs": [
    {
     "name": "stdout",
     "output_type": "stream",
     "text": [
      "please enter your name: pavan\n",
      "please enter your age: 27\n",
      "hi pavan \n",
      " your age is: 27\n"
     ]
    }
   ],
   "source": [
    "#Exercise ask user to name and age\n",
    "name = input(\"please enter your name: \")\n",
    "age = int(input(\"please enter your age: \"))\n",
    "print(\"hi\",name, \"\\n your age is:\",age)"
   ]
  },
  {
   "cell_type": "code",
   "execution_count": 15,
   "id": "e96bf6cd",
   "metadata": {},
   "outputs": [
    {
     "name": "stdout",
     "output_type": "stream",
     "text": [
      "10\n",
      "20\n",
      "30\n",
      "40\n",
      "50\n",
      "60\n",
      "False\n"
     ]
    }
   ],
   "source": [
    "telugu = int(input())\n",
    "hindi = int(input())\n",
    "maths = int(input())\n",
    "N_score = telugu+hindi+maths\n",
    "telugu = int(input())\n",
    "hindi = int(input())\n",
    "maths = int(input())\n",
    "S_score = telugu+hindi+maths\n",
    "\n",
    "print(N_score == S_score)"
   ]
  },
  {
   "cell_type": "code",
   "execution_count": 16,
   "id": "22bca112",
   "metadata": {},
   "outputs": [
    {
     "name": "stdout",
     "output_type": "stream",
     "text": [
      "Enter Time in seconds: 125\n",
      "time taken 2 minutes and 5 seconds\n"
     ]
    }
   ],
   "source": [
    "#exercise\n",
    "time_seconds = int(input(\"Enter Time in seconds: \"))\n",
    "minutes = time_seconds//60\n",
    "seconds = time_seconds%60\n",
    "\n",
    "print(\"time taken\", minutes, \"minutes and\",seconds,\"seconds\")"
   ]
  },
  {
   "cell_type": "code",
   "execution_count": 17,
   "id": "265e8cf6",
   "metadata": {},
   "outputs": [
    {
     "name": "stdout",
     "output_type": "stream",
     "text": [
      "enter speed in k/hr: 150\n",
      "speed is  41.666666666666664 meter/sec\n"
     ]
    }
   ],
   "source": [
    "#Exercise\n",
    "speed = int(input(\"enter speed in k/hr: \"))\n",
    "speed_mtr = speed/3.6\n",
    "print(\"speed is \", speed_mtr,\"meter/sec\")"
   ]
  },
  {
   "cell_type": "code",
   "execution_count": 18,
   "id": "07023973",
   "metadata": {},
   "outputs": [
    {
     "name": "stdout",
     "output_type": "stream",
     "text": [
      "Enter temperature in Fahrenheit: 100\n",
      "Temperature is  37.77777777777778 °C \n"
     ]
    }
   ],
   "source": [
    "#Exercise\n",
    "Fahrenheit_temp = int(input(\"Enter temperature in Fahrenheit: \"))\n",
    "celsius_temp = (Fahrenheit_temp - 32) * 5 / 9\n",
    "\n",
    "print(\"Temperature is \", celsius_temp, \"°C \")"
   ]
  },
  {
   "cell_type": "code",
   "execution_count": 21,
   "id": "c7046e2f",
   "metadata": {},
   "outputs": [
    {
     "name": "stdout",
     "output_type": "stream",
     "text": [
      "enter a number: 1254\n",
      "12\n"
     ]
    }
   ],
   "source": [
    "#Exercise\n",
    "number = input(\"enter a number: \")\n",
    "last_two_digit = number[:-2]\n",
    "print(last_two_digit)\n",
    "\n"
   ]
  },
  {
   "cell_type": "code",
   "execution_count": null,
   "id": "5e4b2415",
   "metadata": {},
   "outputs": [],
   "source": []
  },
  {
   "cell_type": "code",
   "execution_count": 29,
   "id": "7a5a51bc",
   "metadata": {},
   "outputs": [
    {
     "name": "stdout",
     "output_type": "stream",
     "text": [
      "How many fivestars you have: 10\n",
      "How many dairymilk you have: 10\n",
      "How many munch you have: 10\n",
      "Equally distributed chocolates are  10  and buy  3\n"
     ]
    }
   ],
   "source": [
    "#Exercise\n",
    "fivestar = int(input(\"How many fivestars you have: \"))\n",
    "dairymilk = int(input(\"How many dairymilk you have: \"))\n",
    "munch = int(input(\"How many munch you have: \"))\n",
    "total_chocolates = fivestar + dairymilk + munch\n",
    "\n",
    "totalchocolate = total_chocolates//3\n",
    "total_chocolate = total_chocolates%3\n",
    "total_chocolates = 3 - total_chocolate\n",
    "totalchocolates_need = total_chocolates + total_chocolate\n",
    "\n",
    "print(\"Equally distributed chocolates are \",totalchocolate, \" and buy \", totalchocolates_need )\n"
   ]
  },
  {
   "cell_type": "code",
   "execution_count": 25,
   "id": "4601edf5",
   "metadata": {},
   "outputs": [
    {
     "name": "stdout",
     "output_type": "stream",
     "text": [
      "6\n",
      "3.3333333333333335\n",
      "2\n"
     ]
    }
   ],
   "source": [
    "print(20//3)\n",
    "print(10/3)\n",
    "print(20%3)"
   ]
  },
  {
   "cell_type": "code",
   "execution_count": 30,
   "id": "9d378b33",
   "metadata": {},
   "outputs": [
    {
     "name": "stdout",
     "output_type": "stream",
     "text": [
      "3\n",
      "1\n"
     ]
    }
   ],
   "source": [
    "print(10//3)\n",
    "print(10%3)"
   ]
  },
  {
   "cell_type": "code",
   "execution_count": 37,
   "id": "33552c1c",
   "metadata": {},
   "outputs": [
    {
     "data": {
      "text/plain": [
       "'you am learnyoung python. '"
      ]
     },
     "execution_count": 37,
     "metadata": {},
     "output_type": "execute_result"
    }
   ],
   "source": [
    "txt = \"i am learning python. \"\n",
    "txt.replace('i','you')"
   ]
  },
  {
   "cell_type": "code",
   "execution_count": 40,
   "id": "dbaea9c8",
   "metadata": {},
   "outputs": [
    {
     "data": {
      "text/plain": [
       "2"
      ]
     },
     "execution_count": 40,
     "metadata": {},
     "output_type": "execute_result"
    }
   ],
   "source": [
    "txt = \"i am learning python. \"\n",
    "x = txt.find('a')\n",
    "x"
   ]
  },
  {
   "cell_type": "code",
   "execution_count": 42,
   "id": "590a0b12",
   "metadata": {},
   "outputs": [
    {
     "data": {
      "text/plain": [
       "False"
      ]
     },
     "execution_count": 42,
     "metadata": {},
     "output_type": "execute_result"
    }
   ],
   "source": [
    "txt = \"i am learning python. 12 \" # False because space\n",
    "x = txt.isalnum()\n",
    "x"
   ]
  },
  {
   "cell_type": "code",
   "execution_count": 53,
   "id": "148262b3",
   "metadata": {},
   "outputs": [
    {
     "data": {
      "text/plain": [
       "['i am learning python', ' you have any doubt about this ']"
      ]
     },
     "execution_count": 53,
     "metadata": {},
     "output_type": "execute_result"
    }
   ],
   "source": [
    "txt = \"i am learning python, you have any doubt about this \"\n",
    "x = txt.split(\",\",maxsplit=1)\n",
    "x"
   ]
  },
  {
   "cell_type": "code",
   "execution_count": 50,
   "id": "62253636",
   "metadata": {},
   "outputs": [
    {
     "data": {
      "text/plain": [
       "'john#peter#vicky'"
      ]
     },
     "execution_count": 50,
     "metadata": {},
     "output_type": "execute_result"
    }
   ],
   "source": [
    "mytuple = (\"john\",\"peter\",\"vicky\")\n",
    "\"#\".join(mytuple)"
   ]
  },
  {
   "cell_type": "code",
   "execution_count": 60,
   "id": "9ad67f72",
   "metadata": {},
   "outputs": [
    {
     "data": {
      "text/plain": [
       "'aaa,bbb,ccc,dd  '"
      ]
     },
     "execution_count": 60,
     "metadata": {},
     "output_type": "execute_result"
    }
   ],
   "source": [
    "s = '   aaa,bbb,ccc,dd  '\n",
    "s.rstrip() #removing spaces\n",
    "s.lstrip()"
   ]
  },
  {
   "cell_type": "code",
   "execution_count": 64,
   "id": "a1f61e85",
   "metadata": {},
   "outputs": [
    {
     "data": {
      "text/plain": [
       "True"
      ]
     },
     "execution_count": 64,
     "metadata": {},
     "output_type": "execute_result"
    }
   ],
   "source": [
    "a = \"I love my India\"\n",
    "a.startswith(\"a\")\n",
    "a.endswith(\"a\")"
   ]
  },
  {
   "cell_type": "code",
   "execution_count": 65,
   "id": "052cbb0f",
   "metadata": {},
   "outputs": [
    {
     "name": "stdout",
     "output_type": "stream",
     "text": [
      "                                    bananna                                     \n"
     ]
    }
   ],
   "source": [
    "txt = \"bananna\"\n",
    "x = txt.center(80)\n",
    "print(x)"
   ]
  },
  {
   "cell_type": "code",
   "execution_count": 66,
   "id": "5b083753",
   "metadata": {},
   "outputs": [
    {
     "name": "stdout",
     "output_type": "stream",
     "text": [
      "000000000000000000000000000000000000bananna0000000000000000000000000000000000000\n"
     ]
    }
   ],
   "source": [
    "txt = \"bananna\"\n",
    "x = txt.center(80,\"0\")\n",
    "print(x)"
   ]
  },
  {
   "cell_type": "code",
   "execution_count": 67,
   "id": "422cbae3",
   "metadata": {},
   "outputs": [
    {
     "name": "stdout",
     "output_type": "stream",
     "text": [
      "3\n"
     ]
    }
   ],
   "source": [
    "txt = \"apple apple apple banna\"\n",
    "x = txt.count(\"apple\")\n",
    "print(x)"
   ]
  },
  {
   "cell_type": "code",
   "execution_count": 68,
   "id": "f9956ae0",
   "metadata": {},
   "outputs": [
    {
     "name": "stdout",
     "output_type": "stream",
     "text": [
      "1\n"
     ]
    }
   ],
   "source": [
    "txt = \"apple apple apple banna\"\n",
    "x = txt.count(\"apple\",10,24)\n",
    "print(x)"
   ]
  },
  {
   "cell_type": "code",
   "execution_count": null,
   "id": "54830460",
   "metadata": {},
   "outputs": [],
   "source": []
  }
 ],
 "metadata": {
  "kernelspec": {
   "display_name": "Python 3 (ipykernel)",
   "language": "python",
   "name": "python3"
  },
  "language_info": {
   "codemirror_mode": {
    "name": "ipython",
    "version": 3
   },
   "file_extension": ".py",
   "mimetype": "text/x-python",
   "name": "python",
   "nbconvert_exporter": "python",
   "pygments_lexer": "ipython3",
   "version": "3.9.13"
  }
 },
 "nbformat": 4,
 "nbformat_minor": 5
}
