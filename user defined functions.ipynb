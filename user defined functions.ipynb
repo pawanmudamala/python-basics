{
 "cells": [
  {
   "cell_type": "markdown",
   "id": "4f53d480",
   "metadata": {},
   "source": [
    "# Functions"
   ]
  },
  {
   "cell_type": "code",
   "execution_count": 4,
   "id": "56a93cb2",
   "metadata": {},
   "outputs": [
    {
     "name": "stdout",
     "output_type": "stream",
     "text": [
      "my name is pavan\n"
     ]
    }
   ],
   "source": [
    "# without argument\n",
    "def display():\n",
    "    print(\"my name is pavan\")\n",
    "    \n",
    "display()"
   ]
  },
  {
   "cell_type": "code",
   "execution_count": 6,
   "id": "04e70277",
   "metadata": {},
   "outputs": [
    {
     "name": "stdout",
     "output_type": "stream",
     "text": [
      "addition of 2 numbers : 36\n"
     ]
    }
   ],
   "source": [
    "#with argument\n",
    "def add(a,b):\n",
    "    print(\"addition of 2 numbers :\",a+b)\n",
    "    \n",
    "add(12,24)"
   ]
  },
  {
   "cell_type": "code",
   "execution_count": 7,
   "id": "75e2db31",
   "metadata": {},
   "outputs": [
    {
     "name": "stdout",
     "output_type": "stream",
     "text": [
      "enter number: 20\n",
      "enter number: 21\n",
      "addition of 2 numbers : 41\n"
     ]
    }
   ],
   "source": [
    "#with argument\n",
    "def add(a,b):\n",
    "    print(\"addition of 2 numbers :\",a+b)\n",
    "a = int(input(\"enter number: \"))\n",
    "b = int(input(\"enter number: \"))\n",
    "add(a,b)"
   ]
  },
  {
   "cell_type": "code",
   "execution_count": 9,
   "id": "ba6e251e",
   "metadata": {},
   "outputs": [
    {
     "name": "stdout",
     "output_type": "stream",
     "text": [
      "enter number: 20\n",
      "enter number: 30\n",
      "addition of 2 numbers : 50\n"
     ]
    }
   ],
   "source": [
    "#with argument\n",
    "def add():\n",
    "    a = int(input(\"enter number: \"))\n",
    "    b = int(input(\"enter number: \"))\n",
    "    print(\"addition of 2 numbers :\",a+b)\n",
    "add()"
   ]
  },
  {
   "cell_type": "code",
   "execution_count": 10,
   "id": "ca3b1da7",
   "metadata": {},
   "outputs": [
    {
     "name": "stdout",
     "output_type": "stream",
     "text": [
      "Enter currency\n",
      "INR\n",
      "India\n"
     ]
    }
   ],
   "source": [
    "def guesscountry(cur):\n",
    "    if cur == \"GBP\":\n",
    "        print(\"UK\")\n",
    "    elif cur == \"USD\":\n",
    "        print(\"US\")\n",
    "    elif cur == \"INR\":\n",
    "        print(\"India\")\n",
    "    else:\n",
    "        print(\"stop it\")\n",
    "        \n",
    "        \n",
    "print(\"Enter currency\")\n",
    "cur = input()\n",
    "\n",
    "guesscountry(cur)"
   ]
  },
  {
   "cell_type": "code",
   "execution_count": 12,
   "id": "4fdada62",
   "metadata": {},
   "outputs": [
    {
     "name": "stdout",
     "output_type": "stream",
     "text": [
      "enter number: 10\n",
      "enter number: 20\n",
      "enter number:30\n",
      "simple intrest: 60.0\n"
     ]
    }
   ],
   "source": [
    "#with argument\n",
    "def add(a,b,c):\n",
    "    print(\"simple intrest:\",a*b*c/100)\n",
    "p = int(input(\"enter number: \"))\n",
    "r = int(input(\"enter number: \"))\n",
    "t = int(input(\"enter number:\"))\n",
    "   \n",
    "add(p,r,t)"
   ]
  },
  {
   "cell_type": "code",
   "execution_count": 13,
   "id": "17fdef3c",
   "metadata": {},
   "outputs": [
    {
     "name": "stdout",
     "output_type": "stream",
     "text": [
      "enter number: 10\n",
      "enter number: 20\n",
      "enter number:30\n",
      "si:  60.0\n"
     ]
    }
   ],
   "source": [
    "#with argument\n",
    "def add(a,b,c):\n",
    "    si = a*b*c/100\n",
    "    return si\n",
    "\n",
    "p = int(input(\"enter number: \"))\n",
    "r = int(input(\"enter number: \"))\n",
    "t = int(input(\"enter number:\"))\n",
    "ans = add(p,r,t)\n",
    "   \n",
    "print(\"si: \",ans)"
   ]
  },
  {
   "cell_type": "code",
   "execution_count": 14,
   "id": "a306eb75",
   "metadata": {},
   "outputs": [
    {
     "name": "stdout",
     "output_type": "stream",
     "text": [
      "22\n"
     ]
    }
   ],
   "source": [
    "def add(a,b=12):\n",
    "    print(a+b)\n",
    "    \n",
    "add(10)"
   ]
  },
  {
   "cell_type": "code",
   "execution_count": 15,
   "id": "9a778d31",
   "metadata": {},
   "outputs": [
    {
     "name": "stdout",
     "output_type": "stream",
     "text": [
      "39\n"
     ]
    }
   ],
   "source": [
    "def add(a,b=12):\n",
    "    print(a+b)\n",
    "    \n",
    "add(10,29)"
   ]
  },
  {
   "cell_type": "code",
   "execution_count": 16,
   "id": "f66edcee",
   "metadata": {},
   "outputs": [
    {
     "name": "stdout",
     "output_type": "stream",
     "text": [
      "41\n"
     ]
    }
   ],
   "source": [
    "def add(S_name,marks):\n",
    "    print(a+b)\n",
    "    \n",
    "add(10,29)"
   ]
  },
  {
   "cell_type": "code",
   "execution_count": 25,
   "id": "04419420",
   "metadata": {},
   "outputs": [
    {
     "name": "stdout",
     "output_type": "stream",
     "text": [
      "marks 71\n",
      "marks 71\n",
      "marks 71\n"
     ]
    }
   ],
   "source": [
    "def add(S_name,*marks):\n",
    "    for i in marks:\n",
    "        print(\"marks\",sum(marks))\n",
    "\n",
    "  \n",
    "add(\"pavan\",21,20,30)"
   ]
  },
  {
   "cell_type": "code",
   "execution_count": 26,
   "id": "e71edab9",
   "metadata": {},
   "outputs": [
    {
     "name": "stdout",
     "output_type": "stream",
     "text": [
      "109\n"
     ]
    }
   ],
   "source": [
    "#anonymous Functions\n",
    "\n",
    "#lamda function\n",
    "\n",
    "x = lambda a:a+10\n",
    "print(x(99))"
   ]
  },
  {
   "cell_type": "code",
   "execution_count": 27,
   "id": "4d296520",
   "metadata": {},
   "outputs": [
    {
     "name": "stdout",
     "output_type": "stream",
     "text": [
      "111\n"
     ]
    }
   ],
   "source": [
    "x = lambda a,b:a+b\n",
    "print(x(99,12))"
   ]
  },
  {
   "cell_type": "code",
   "execution_count": 35,
   "id": "b1b4ac70",
   "metadata": {},
   "outputs": [
    {
     "name": "stdout",
     "output_type": "stream",
     "text": [
      "16\n"
     ]
    }
   ],
   "source": [
    "def myfunc(x):\n",
    "    return(lambda x:x*x)\n",
    "\n",
    "#a =myfunc(2)\n",
    "\n",
    "print(a(4))"
   ]
  },
  {
   "cell_type": "code",
   "execution_count": null,
   "id": "15c52a92",
   "metadata": {},
   "outputs": [],
   "source": []
  },
  {
   "cell_type": "code",
   "execution_count": 36,
   "id": "9798a739",
   "metadata": {},
   "outputs": [
    {
     "name": "stdout",
     "output_type": "stream",
     "text": [
      "88\n",
      "90\n"
     ]
    }
   ],
   "source": [
    "# local and global variable\n",
    "\n",
    "a = 90 # global variable\n",
    "def func():\n",
    "    a = 88 # local variable\n",
    "    print(a)\n",
    "func()\n",
    "print(a)\n"
   ]
  },
  {
   "cell_type": "code",
   "execution_count": 37,
   "id": "993a1e23",
   "metadata": {},
   "outputs": [
    {
     "name": "stdout",
     "output_type": "stream",
     "text": [
      "88\n",
      "88\n"
     ]
    }
   ],
   "source": [
    "a = 90 # global variable\n",
    "def func():\n",
    "    global a\n",
    "    a = 88 # local variable\n",
    "    print(a) # 88 out put\n",
    "func()\n",
    "print(a) # 88 because we used global variable\n"
   ]
  },
  {
   "cell_type": "code",
   "execution_count": 40,
   "id": "aefa59ce",
   "metadata": {},
   "outputs": [
    {
     "name": "stdout",
     "output_type": "stream",
     "text": [
      "[1, 4, 9, 16]\n"
     ]
    }
   ],
   "source": [
    "def calculatesquare(n):\n",
    "    return n*n\n",
    "\n",
    "numbers = (1,2,3,4)\n",
    "result = map(calculatesquare, numbers)\n",
    "\n",
    "#converting map object to list\n",
    "numbersquare = list(result)\n",
    "print(numbersquare)\n",
    "    "
   ]
  },
  {
   "cell_type": "code",
   "execution_count": null,
   "id": "4bcda49d",
   "metadata": {},
   "outputs": [],
   "source": []
  }
 ],
 "metadata": {
  "kernelspec": {
   "display_name": "Python 3 (ipykernel)",
   "language": "python",
   "name": "python3"
  },
  "language_info": {
   "codemirror_mode": {
    "name": "ipython",
    "version": 3
   },
   "file_extension": ".py",
   "mimetype": "text/x-python",
   "name": "python",
   "nbconvert_exporter": "python",
   "pygments_lexer": "ipython3",
   "version": "3.9.13"
  }
 },
 "nbformat": 4,
 "nbformat_minor": 5
}
